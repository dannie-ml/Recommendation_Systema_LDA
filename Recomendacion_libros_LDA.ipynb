{
 "cells": [
  {
   "cell_type": "markdown",
   "metadata": {},
   "source": [
    "#### Problema:\n",
    "\n",
    "Se requiere construir un sistema de recomendación de libros basados en los resumenes de libros y los temas (tópicos) de los mismos.\n",
    "\n",
    "Para tal fin, se utilizará eñ [CMU Book Summary Dataset](https://www.cs.cmu.edu/~dbamman/booksummaries.html)"
   ]
  },
  {
   "cell_type": "markdown",
   "metadata": {},
   "source": [
    "## Librerias"
   ]
  },
  {
   "cell_type": "code",
   "execution_count": 29,
   "metadata": {},
   "outputs": [
    {
     "name": "stdout",
     "output_type": "stream",
     "text": [
      "sklearn 1.2.1\n",
      "pyLDAvis 3.4.0\n",
      "numpy 1.26.4\n",
      "pandas 2.2.3\n"
     ]
    }
   ],
   "source": [
    "import csv \n",
    "import json\n",
    "import pickle\n",
    "\n",
    "import pandas as pd\n",
    "import numpy as np\n",
    "from collections import Counter # Para contar frecuencias\n",
    "\n",
    "# Preprocesar texto\n",
    "import re\n",
    "import nltk\n",
    "from nltk.corpus import stopwords\n",
    "from nltk.stem import PorterStemmer\n",
    "\n",
    "# Modelado de tópicos \n",
    "from sklearn.feature_extraction.text import CountVectorizer\n",
    "from sklearn.decomposition import LatentDirichletAllocation\n",
    "\n",
    "# Visualizaciones\n",
    "import pyLDAvis\n",
    "import matplotlib.pyplot as plt\n",
    "import seaborn as sns\n",
    "\n",
    "import warnings\n",
    "warnings.filterwarnings('ignore', category = DeprecationWarning) # Al instalar pyLDAvis ocasiona un warning con ipkernel\n",
    "\n",
    "import sklearn\n",
    "for lib in [sklearn, pyLDAvis, np, pd]:\n",
    "    print(lib.__name__, lib.__version__)"
   ]
  },
  {
   "cell_type": "code",
   "execution_count": 4,
   "metadata": {},
   "outputs": [
    {
     "name": "stderr",
     "output_type": "stream",
     "text": [
      "[nltk_data] Downloading package stopwords to\n",
      "[nltk_data]     /Users/danielml/nltk_data...\n",
      "[nltk_data]   Package stopwords is already up-to-date!\n"
     ]
    },
    {
     "data": {
      "text/plain": [
       "True"
      ]
     },
     "execution_count": 4,
     "metadata": {},
     "output_type": "execute_result"
    }
   ],
   "source": [
    "nltk.download('stopwords')"
   ]
  },
  {
   "cell_type": "code",
   "execution_count": 5,
   "metadata": {},
   "outputs": [
    {
     "name": "stdout",
     "output_type": "stream",
     "text": [
      "x booksummaries/\n",
      "x booksummaries/README\n",
      "x booksummaries/booksummaries.txt\n"
     ]
    }
   ],
   "source": [
    "!tar -xzvf \"/Users/danielml/Documents/Computational/Curso_Bourbaki/Semana_7/booksummaries.tar.gz\" -C\"/Users/danielml/Documents/Computational/Curso_Bourbaki/Semana_7/\""
   ]
  },
  {
   "cell_type": "markdown",
   "metadata": {},
   "source": [
    "## Lectura y exploración de datos."
   ]
  },
  {
   "cell_type": "code",
   "execution_count": 6,
   "metadata": {},
   "outputs": [],
   "source": [
    "data = []\n",
    "with open(\"/Users/danielml/Documents/Computational/Curso_Bourbaki/Semana_7/booksummaries/booksummaries.txt\", 'r') as f:\n",
    "    reader = csv.reader(f, dialect='excel-tab')\n",
    "    for row in reader:\n",
    "        data.append(row)"
   ]
  },
  {
   "cell_type": "code",
   "execution_count": 7,
   "metadata": {},
   "outputs": [
    {
     "data": {
      "text/plain": [
       "16559"
      ]
     },
     "execution_count": 7,
     "metadata": {},
     "output_type": "execute_result"
    }
   ],
   "source": [
    "len(data)"
   ]
  },
  {
   "cell_type": "code",
   "execution_count": 8,
   "metadata": {},
   "outputs": [
    {
     "name": "stdout",
     "output_type": "stream",
     "text": [
      "(16559, 4)\n"
     ]
    },
    {
     "data": {
      "text/html": [
       "<div>\n",
       "<style scoped>\n",
       "    .dataframe tbody tr th:only-of-type {\n",
       "        vertical-align: middle;\n",
       "    }\n",
       "\n",
       "    .dataframe tbody tr th {\n",
       "        vertical-align: top;\n",
       "    }\n",
       "\n",
       "    .dataframe thead th {\n",
       "        text-align: right;\n",
       "    }\n",
       "</style>\n",
       "<table border=\"1\" class=\"dataframe\">\n",
       "  <thead>\n",
       "    <tr style=\"text-align: right;\">\n",
       "      <th></th>\n",
       "      <th>Title</th>\n",
       "      <th>Author</th>\n",
       "      <th>Genre</th>\n",
       "      <th>Summary</th>\n",
       "    </tr>\n",
       "  </thead>\n",
       "  <tbody>\n",
       "    <tr>\n",
       "      <th>0</th>\n",
       "      <td>Animal Farm</td>\n",
       "      <td>George Orwell</td>\n",
       "      <td>[Roman à clef, Satire, Children's literature, ...</td>\n",
       "      <td>Old Major, the old boar on the Manor Farm, ca...</td>\n",
       "    </tr>\n",
       "    <tr>\n",
       "      <th>1</th>\n",
       "      <td>A Clockwork Orange</td>\n",
       "      <td>Anthony Burgess</td>\n",
       "      <td>[Science Fiction, Novella, Speculative fiction...</td>\n",
       "      <td>Alex, a teenager living in near-future Englan...</td>\n",
       "    </tr>\n",
       "    <tr>\n",
       "      <th>2</th>\n",
       "      <td>The Plague</td>\n",
       "      <td>Albert Camus</td>\n",
       "      <td>[Existentialism, Fiction, Absurdist fiction, N...</td>\n",
       "      <td>The text of The Plague is divided into five p...</td>\n",
       "    </tr>\n",
       "    <tr>\n",
       "      <th>3</th>\n",
       "      <td>An Enquiry Concerning Human Understanding</td>\n",
       "      <td>David Hume</td>\n",
       "      <td>[]</td>\n",
       "      <td>The argument of the Enquiry proceeds by a ser...</td>\n",
       "    </tr>\n",
       "    <tr>\n",
       "      <th>4</th>\n",
       "      <td>A Fire Upon the Deep</td>\n",
       "      <td>Vernor Vinge</td>\n",
       "      <td>[Hard science fiction, Science Fiction, Specul...</td>\n",
       "      <td>The novel posits that space around the Milky ...</td>\n",
       "    </tr>\n",
       "  </tbody>\n",
       "</table>\n",
       "</div>"
      ],
      "text/plain": [
       "                                       Title           Author  \\\n",
       "0                                Animal Farm    George Orwell   \n",
       "1                         A Clockwork Orange  Anthony Burgess   \n",
       "2                                 The Plague     Albert Camus   \n",
       "3  An Enquiry Concerning Human Understanding       David Hume   \n",
       "4                       A Fire Upon the Deep     Vernor Vinge   \n",
       "\n",
       "                                               Genre  \\\n",
       "0  [Roman à clef, Satire, Children's literature, ...   \n",
       "1  [Science Fiction, Novella, Speculative fiction...   \n",
       "2  [Existentialism, Fiction, Absurdist fiction, N...   \n",
       "3                                                 []   \n",
       "4  [Hard science fiction, Science Fiction, Specul...   \n",
       "\n",
       "                                             Summary  \n",
       "0   Old Major, the old boar on the Manor Farm, ca...  \n",
       "1   Alex, a teenager living in near-future Englan...  \n",
       "2   The text of The Plague is divided into five p...  \n",
       "3   The argument of the Enquiry proceeds by a ser...  \n",
       "4   The novel posits that space around the Milky ...  "
      ]
     },
     "execution_count": 8,
     "metadata": {},
     "output_type": "execute_result"
    }
   ],
   "source": [
    "title = []\n",
    "author = []\n",
    "genre = []\n",
    "summary = []\n",
    "\n",
    "for i in range(len(data)):\n",
    "    title.append(data[i][2])\n",
    "    author.append(data[i][3])\n",
    "    if data[i][5] == '':\n",
    "        genre.append([''])\n",
    "    else:\n",
    "        genre.append([j for j in json.loads(data[i][5]).values()])\n",
    "    summary.append(data[i][6])\n",
    "\n",
    "df = pd.DataFrame({'Title': title, 'Author': author,\n",
    "                   'Genre': genre, 'Summary': summary})\n",
    "\n",
    "print(df.shape)\n",
    "df.head(5)"
   ]
  },
  {
   "cell_type": "code",
   "execution_count": 9,
   "metadata": {},
   "outputs": [
    {
     "name": "stdout",
     "output_type": "stream",
     "text": [
      "<class 'pandas.core.frame.DataFrame'>\n",
      "RangeIndex: 16559 entries, 0 to 16558\n",
      "Data columns (total 4 columns):\n",
      " #   Column   Non-Null Count  Dtype \n",
      "---  ------   --------------  ----- \n",
      " 0   Title    16559 non-null  object\n",
      " 1   Author   16559 non-null  object\n",
      " 2   Genre    16559 non-null  object\n",
      " 3   Summary  16559 non-null  object\n",
      "dtypes: object(4)\n",
      "memory usage: 517.6+ KB\n"
     ]
    }
   ],
   "source": [
    "df.info()"
   ]
  },
  {
   "cell_type": "code",
   "execution_count": 10,
   "metadata": {},
   "outputs": [
    {
     "data": {
      "text/plain": [
       "Title     16277\n",
       "Author     4715\n",
       "dtype: int64"
      ]
     },
     "execution_count": 10,
     "metadata": {},
     "output_type": "execute_result"
    }
   ],
   "source": [
    "df[['Title', 'Author']].nunique()"
   ]
  },
  {
   "cell_type": "code",
   "execution_count": 11,
   "metadata": {},
   "outputs": [
    {
     "data": {
      "text/plain": [
       "Title\n",
       "Nemesis     6\n",
       "Outcast     4\n",
       "Haunted     4\n",
       "Inferno     4\n",
       "The Gift    3\n",
       "Name: count, dtype: int64"
      ]
     },
     "execution_count": 11,
     "metadata": {},
     "output_type": "execute_result"
    }
   ],
   "source": [
    "df['Title'].value_counts().head()"
   ]
  },
  {
   "cell_type": "markdown",
   "metadata": {},
   "source": [
    "¿Por qué hay mas de un resumen para cada titulo?"
   ]
  },
  {
   "cell_type": "code",
   "execution_count": 12,
   "metadata": {},
   "outputs": [
    {
     "data": {
      "text/html": [
       "<div>\n",
       "<style scoped>\n",
       "    .dataframe tbody tr th:only-of-type {\n",
       "        vertical-align: middle;\n",
       "    }\n",
       "\n",
       "    .dataframe tbody tr th {\n",
       "        vertical-align: top;\n",
       "    }\n",
       "\n",
       "    .dataframe thead th {\n",
       "        text-align: right;\n",
       "    }\n",
       "</style>\n",
       "<table border=\"1\" class=\"dataframe\">\n",
       "  <thead>\n",
       "    <tr style=\"text-align: right;\">\n",
       "      <th></th>\n",
       "      <th>Title</th>\n",
       "      <th>Author</th>\n",
       "      <th>Genre</th>\n",
       "      <th>Summary</th>\n",
       "    </tr>\n",
       "  </thead>\n",
       "  <tbody>\n",
       "    <tr>\n",
       "      <th>375</th>\n",
       "      <td>Nemesis</td>\n",
       "      <td>Isaac Asimov</td>\n",
       "      <td>[Science Fiction, Speculative fiction, Childre...</td>\n",
       "      <td>The novel is set in an era in which interstel...</td>\n",
       "    </tr>\n",
       "    <tr>\n",
       "      <th>3499</th>\n",
       "      <td>Nemesis</td>\n",
       "      <td>Agatha Christie</td>\n",
       "      <td>[Crime Fiction, Mystery, Children's literature...</td>\n",
       "      <td>Miss Marple receives a post card from the rec...</td>\n",
       "    </tr>\n",
       "    <tr>\n",
       "      <th>5157</th>\n",
       "      <td>Nemesis</td>\n",
       "      <td>Scott Ciencin</td>\n",
       "      <td>[Speculative fiction, Horror]</td>\n",
       "      <td>One of Fred's old friends from graduate schoo...</td>\n",
       "    </tr>\n",
       "    <tr>\n",
       "      <th>6159</th>\n",
       "      <td>Nemesis</td>\n",
       "      <td>Jo Nesbø</td>\n",
       "      <td>[Crime Fiction]</td>\n",
       "      <td>A bank robbery is committed by a lone robber ...</td>\n",
       "    </tr>\n",
       "    <tr>\n",
       "      <th>13696</th>\n",
       "      <td>Nemesis</td>\n",
       "      <td>Philip Roth</td>\n",
       "      <td>[]</td>\n",
       "      <td>Nemesis explores the effect of a 1944 polio e...</td>\n",
       "    </tr>\n",
       "    <tr>\n",
       "      <th>13842</th>\n",
       "      <td>Nemesis</td>\n",
       "      <td></td>\n",
       "      <td>[]</td>\n",
       "      <td>The story, set in Latium in AD 77, opens with...</td>\n",
       "    </tr>\n",
       "  </tbody>\n",
       "</table>\n",
       "</div>"
      ],
      "text/plain": [
       "         Title           Author  \\\n",
       "375    Nemesis     Isaac Asimov   \n",
       "3499   Nemesis  Agatha Christie   \n",
       "5157   Nemesis    Scott Ciencin   \n",
       "6159   Nemesis         Jo Nesbø   \n",
       "13696  Nemesis      Philip Roth   \n",
       "13842  Nemesis                    \n",
       "\n",
       "                                                   Genre  \\\n",
       "375    [Science Fiction, Speculative fiction, Childre...   \n",
       "3499   [Crime Fiction, Mystery, Children's literature...   \n",
       "5157                       [Speculative fiction, Horror]   \n",
       "6159                                     [Crime Fiction]   \n",
       "13696                                                 []   \n",
       "13842                                                 []   \n",
       "\n",
       "                                                 Summary  \n",
       "375     The novel is set in an era in which interstel...  \n",
       "3499    Miss Marple receives a post card from the rec...  \n",
       "5157    One of Fred's old friends from graduate schoo...  \n",
       "6159    A bank robbery is committed by a lone robber ...  \n",
       "13696   Nemesis explores the effect of a 1944 polio e...  \n",
       "13842   The story, set in Latium in AD 77, opens with...  "
      ]
     },
     "execution_count": 12,
     "metadata": {},
     "output_type": "execute_result"
    }
   ],
   "source": [
    "df[df['Title'] == 'Nemesis']"
   ]
  },
  {
   "cell_type": "markdown",
   "metadata": {},
   "source": [
    "¿Cuántas categorias tiene la variable 'Genre'?"
   ]
  },
  {
   "cell_type": "code",
   "execution_count": 13,
   "metadata": {},
   "outputs": [],
   "source": [
    "genre_dict = {}\n",
    "for i in df['Genre']:\n",
    "    for j in i:\n",
    "        if j not in genre_dict:\n",
    "            genre_dict[j] = 1\n",
    "        else:\n",
    "            genre_dict[j] += 1\n",
    "frec_genre = Counter(genre_dict)"
   ]
  },
  {
   "cell_type": "code",
   "execution_count": 14,
   "metadata": {},
   "outputs": [
    {
     "name": "stdout",
     "output_type": "stream",
     "text": [
      "Generos distintos: 228\n",
      " \n"
     ]
    }
   ],
   "source": [
    "print('Generos distintos: {}\\n '.format(len(frec_genre)))"
   ]
  },
  {
   "cell_type": "code",
   "execution_count": 15,
   "metadata": {},
   "outputs": [
    {
     "data": {
      "text/plain": [
       "[('Fiction', 4747),\n",
       " ('Speculative fiction', 4314),\n",
       " ('', 3718),\n",
       " ('Science Fiction', 2870),\n",
       " ('Novel', 2463),\n",
       " ('Fantasy', 2413),\n",
       " (\"Children's literature\", 2122),\n",
       " ('Mystery', 1396),\n",
       " ('Young adult literature', 825),\n",
       " ('Suspense', 765),\n",
       " ('Crime Fiction', 753),\n",
       " ('Historical novel', 654),\n",
       " ('Thriller', 568),\n",
       " ('Horror', 511),\n",
       " ('Romance novel', 435),\n",
       " ('Historical fiction', 388),\n",
       " ('Detective fiction', 341),\n",
       " ('Adventure novel', 330),\n",
       " ('Non-fiction', 230),\n",
       " ('Alternate history', 226),\n",
       " ('Spy fiction', 190),\n",
       " ('Comedy', 145),\n",
       " ('Dystopia', 127),\n",
       " ('Autobiography', 124),\n",
       " ('Satire', 123),\n",
       " ('Gothic fiction', 112),\n",
       " ('Comic novel', 104),\n",
       " ('Biography', 102),\n",
       " ('Novella', 87),\n",
       " ('War novel', 87)]"
      ]
     },
     "execution_count": 15,
     "metadata": {},
     "output_type": "execute_result"
    }
   ],
   "source": [
    "frec_genre.most_common(30)"
   ]
  },
  {
   "cell_type": "markdown",
   "metadata": {},
   "source": [
    "Podemos observar que 3718 resumenes no cuentan con información sobre género del libro."
   ]
  },
  {
   "cell_type": "code",
   "execution_count": 16,
   "metadata": {},
   "outputs": [
    {
     "data": {
      "text/plain": [
       "count    16559.000000\n",
       "mean       429.202126\n",
       "std        500.339692\n",
       "min          1.000000\n",
       "25%        120.000000\n",
       "50%        263.000000\n",
       "75%        569.000000\n",
       "max      10334.000000\n",
       "Name: len Summary, dtype: float64"
      ]
     },
     "execution_count": 16,
     "metadata": {},
     "output_type": "execute_result"
    }
   ],
   "source": [
    "df['len Summary'] = df['Summary'].apply(lambda x: len(str(x).split()))\n",
    "df['len Summary'].describe()"
   ]
  },
  {
   "cell_type": "code",
   "execution_count": 17,
   "metadata": {},
   "outputs": [
    {
     "data": {
      "text/html": [
       "<div>\n",
       "<style scoped>\n",
       "    .dataframe tbody tr th:only-of-type {\n",
       "        vertical-align: middle;\n",
       "    }\n",
       "\n",
       "    .dataframe tbody tr th {\n",
       "        vertical-align: top;\n",
       "    }\n",
       "\n",
       "    .dataframe thead th {\n",
       "        text-align: right;\n",
       "    }\n",
       "</style>\n",
       "<table border=\"1\" class=\"dataframe\">\n",
       "  <thead>\n",
       "    <tr style=\"text-align: right;\">\n",
       "      <th></th>\n",
       "      <th>Title</th>\n",
       "      <th>Author</th>\n",
       "      <th>Genre</th>\n",
       "      <th>Summary</th>\n",
       "      <th>len Summary</th>\n",
       "    </tr>\n",
       "  </thead>\n",
       "  <tbody>\n",
       "    <tr>\n",
       "      <th>0</th>\n",
       "      <td>Animal Farm</td>\n",
       "      <td>George Orwell</td>\n",
       "      <td>[Roman à clef, Satire, Children's literature, ...</td>\n",
       "      <td>Old Major, the old boar on the Manor Farm, ca...</td>\n",
       "      <td>957</td>\n",
       "    </tr>\n",
       "    <tr>\n",
       "      <th>1</th>\n",
       "      <td>A Clockwork Orange</td>\n",
       "      <td>Anthony Burgess</td>\n",
       "      <td>[Science Fiction, Novella, Speculative fiction...</td>\n",
       "      <td>Alex, a teenager living in near-future Englan...</td>\n",
       "      <td>998</td>\n",
       "    </tr>\n",
       "    <tr>\n",
       "      <th>2</th>\n",
       "      <td>The Plague</td>\n",
       "      <td>Albert Camus</td>\n",
       "      <td>[Existentialism, Fiction, Absurdist fiction, N...</td>\n",
       "      <td>The text of The Plague is divided into five p...</td>\n",
       "      <td>1119</td>\n",
       "    </tr>\n",
       "    <tr>\n",
       "      <th>3</th>\n",
       "      <td>An Enquiry Concerning Human Understanding</td>\n",
       "      <td>David Hume</td>\n",
       "      <td>[]</td>\n",
       "      <td>The argument of the Enquiry proceeds by a ser...</td>\n",
       "      <td>2825</td>\n",
       "    </tr>\n",
       "    <tr>\n",
       "      <th>4</th>\n",
       "      <td>A Fire Upon the Deep</td>\n",
       "      <td>Vernor Vinge</td>\n",
       "      <td>[Hard science fiction, Science Fiction, Specul...</td>\n",
       "      <td>The novel posits that space around the Milky ...</td>\n",
       "      <td>722</td>\n",
       "    </tr>\n",
       "  </tbody>\n",
       "</table>\n",
       "</div>"
      ],
      "text/plain": [
       "                                       Title           Author  \\\n",
       "0                                Animal Farm    George Orwell   \n",
       "1                         A Clockwork Orange  Anthony Burgess   \n",
       "2                                 The Plague     Albert Camus   \n",
       "3  An Enquiry Concerning Human Understanding       David Hume   \n",
       "4                       A Fire Upon the Deep     Vernor Vinge   \n",
       "\n",
       "                                               Genre  \\\n",
       "0  [Roman à clef, Satire, Children's literature, ...   \n",
       "1  [Science Fiction, Novella, Speculative fiction...   \n",
       "2  [Existentialism, Fiction, Absurdist fiction, N...   \n",
       "3                                                 []   \n",
       "4  [Hard science fiction, Science Fiction, Specul...   \n",
       "\n",
       "                                             Summary  len Summary  \n",
       "0   Old Major, the old boar on the Manor Farm, ca...          957  \n",
       "1   Alex, a teenager living in near-future Englan...          998  \n",
       "2   The text of The Plague is divided into five p...         1119  \n",
       "3   The argument of the Enquiry proceeds by a ser...         2825  \n",
       "4   The novel posits that space around the Milky ...          722  "
      ]
     },
     "execution_count": 17,
     "metadata": {},
     "output_type": "execute_result"
    }
   ],
   "source": [
    "df.head()"
   ]
  },
  {
   "cell_type": "code",
   "execution_count": 18,
   "metadata": {},
   "outputs": [
    {
     "data": {
      "text/html": [
       "<div>\n",
       "<style scoped>\n",
       "    .dataframe tbody tr th:only-of-type {\n",
       "        vertical-align: middle;\n",
       "    }\n",
       "\n",
       "    .dataframe tbody tr th {\n",
       "        vertical-align: top;\n",
       "    }\n",
       "\n",
       "    .dataframe thead th {\n",
       "        text-align: right;\n",
       "    }\n",
       "</style>\n",
       "<table border=\"1\" class=\"dataframe\">\n",
       "  <thead>\n",
       "    <tr style=\"text-align: right;\">\n",
       "      <th></th>\n",
       "      <th>Title</th>\n",
       "      <th>Author</th>\n",
       "      <th>Genre</th>\n",
       "      <th>Summary</th>\n",
       "      <th>len Summary</th>\n",
       "    </tr>\n",
       "  </thead>\n",
       "  <tbody>\n",
       "    <tr>\n",
       "      <th>16531</th>\n",
       "      <td>Guardians of Ga'Hoole Book 4: The Siege</td>\n",
       "      <td>Helen Dunmore</td>\n",
       "      <td>[Speculative fiction, Fantasy, Historical novel]</td>\n",
       "      <td>==Receptio</td>\n",
       "      <td>1</td>\n",
       "    </tr>\n",
       "    <tr>\n",
       "      <th>11215</th>\n",
       "      <td>Chucaro: Wild Pony of the Pampa</td>\n",
       "      <td>Francis Kalnay</td>\n",
       "      <td>[Children's literature]</td>\n",
       "      <td>==Reference</td>\n",
       "      <td>1</td>\n",
       "    </tr>\n",
       "    <tr>\n",
       "      <th>5879</th>\n",
       "      <td>The Caverns of Kalte</td>\n",
       "      <td>Joe Dever</td>\n",
       "      <td>[Gamebook, Speculative fiction, Fantasy, Child...</td>\n",
       "      <td>==Receptio</td>\n",
       "      <td>1</td>\n",
       "    </tr>\n",
       "    <tr>\n",
       "      <th>5693</th>\n",
       "      <td>The Deathlord of Ixia</td>\n",
       "      <td>John Grant</td>\n",
       "      <td>[Gamebook, Speculative fiction, Children's lit...</td>\n",
       "      <td>==Receptio</td>\n",
       "      <td>1</td>\n",
       "    </tr>\n",
       "    <tr>\n",
       "      <th>5972</th>\n",
       "      <td>The Eyes of Darkness</td>\n",
       "      <td>Dean Koontz</td>\n",
       "      <td>[Speculative fiction, Horror, Fiction, Romance...</td>\n",
       "      <td>==Character</td>\n",
       "      <td>1</td>\n",
       "    </tr>\n",
       "    <tr>\n",
       "      <th>...</th>\n",
       "      <td>...</td>\n",
       "      <td>...</td>\n",
       "      <td>...</td>\n",
       "      <td>...</td>\n",
       "      <td>...</td>\n",
       "    </tr>\n",
       "    <tr>\n",
       "      <th>13201</th>\n",
       "      <td>Archform: Beauty</td>\n",
       "      <td>L. E. Modesitt, Jr.</td>\n",
       "      <td>[Science Fiction]</td>\n",
       "      <td>Archform: Beauty is set in 24th century Earth.</td>\n",
       "      <td>8</td>\n",
       "    </tr>\n",
       "    <tr>\n",
       "      <th>9689</th>\n",
       "      <td>The Princess Diaries, Volume VII and 3/4: Vale...</td>\n",
       "      <td>Meg Cabot</td>\n",
       "      <td>[Young adult literature]</td>\n",
       "      <td>Mia and Michael share Valentine's Day togethe...</td>\n",
       "      <td>9</td>\n",
       "    </tr>\n",
       "    <tr>\n",
       "      <th>12201</th>\n",
       "      <td>The Temple of the Ten</td>\n",
       "      <td>H. Bedford-Jones</td>\n",
       "      <td>[Fantasy]</td>\n",
       "      <td>The novel adventures in the realms of Prester...</td>\n",
       "      <td>9</td>\n",
       "    </tr>\n",
       "    <tr>\n",
       "      <th>12856</th>\n",
       "      <td>The Sword of Aldones</td>\n",
       "      <td>Marion Zimmer Bradley</td>\n",
       "      <td>[Science Fiction]</td>\n",
       "      <td>The novel concerns involved intrigue on the p...</td>\n",
       "      <td>9</td>\n",
       "    </tr>\n",
       "    <tr>\n",
       "      <th>12120</th>\n",
       "      <td>Death's Deputy</td>\n",
       "      <td>L. Ron Hubbard</td>\n",
       "      <td>[Speculative fiction, Fantasy]</td>\n",
       "      <td>The novel concerns a man who is unnaturally a...</td>\n",
       "      <td>9</td>\n",
       "    </tr>\n",
       "  </tbody>\n",
       "</table>\n",
       "<p>63 rows × 5 columns</p>\n",
       "</div>"
      ],
      "text/plain": [
       "                                                   Title  \\\n",
       "16531            Guardians of Ga'Hoole Book 4: The Siege   \n",
       "11215                    Chucaro: Wild Pony of the Pampa   \n",
       "5879                                The Caverns of Kalte   \n",
       "5693                               The Deathlord of Ixia   \n",
       "5972                                The Eyes of Darkness   \n",
       "...                                                  ...   \n",
       "13201                                   Archform: Beauty   \n",
       "9689   The Princess Diaries, Volume VII and 3/4: Vale...   \n",
       "12201                              The Temple of the Ten   \n",
       "12856                               The Sword of Aldones   \n",
       "12120                                     Death's Deputy   \n",
       "\n",
       "                      Author  \\\n",
       "16531          Helen Dunmore   \n",
       "11215         Francis Kalnay   \n",
       "5879               Joe Dever   \n",
       "5693              John Grant   \n",
       "5972             Dean Koontz   \n",
       "...                      ...   \n",
       "13201    L. E. Modesitt, Jr.   \n",
       "9689               Meg Cabot   \n",
       "12201       H. Bedford-Jones   \n",
       "12856  Marion Zimmer Bradley   \n",
       "12120         L. Ron Hubbard   \n",
       "\n",
       "                                                   Genre  \\\n",
       "16531   [Speculative fiction, Fantasy, Historical novel]   \n",
       "11215                            [Children's literature]   \n",
       "5879   [Gamebook, Speculative fiction, Fantasy, Child...   \n",
       "5693   [Gamebook, Speculative fiction, Children's lit...   \n",
       "5972   [Speculative fiction, Horror, Fiction, Romance...   \n",
       "...                                                  ...   \n",
       "13201                                  [Science Fiction]   \n",
       "9689                            [Young adult literature]   \n",
       "12201                                          [Fantasy]   \n",
       "12856                                  [Science Fiction]   \n",
       "12120                     [Speculative fiction, Fantasy]   \n",
       "\n",
       "                                                 Summary  len Summary  \n",
       "16531                                         ==Receptio            1  \n",
       "11215                                        ==Reference            1  \n",
       "5879                                          ==Receptio            1  \n",
       "5693                                          ==Receptio            1  \n",
       "5972                                         ==Character            1  \n",
       "...                                                  ...          ...  \n",
       "13201     Archform: Beauty is set in 24th century Earth.            8  \n",
       "9689    Mia and Michael share Valentine's Day togethe...            9  \n",
       "12201   The novel adventures in the realms of Prester...            9  \n",
       "12856   The novel concerns involved intrigue on the p...            9  \n",
       "12120   The novel concerns a man who is unnaturally a...            9  \n",
       "\n",
       "[63 rows x 5 columns]"
      ]
     },
     "execution_count": 18,
     "metadata": {},
     "output_type": "execute_result"
    }
   ],
   "source": [
    "df[df['len Summary'] < 10].sort_values('len Summary')"
   ]
  },
  {
   "cell_type": "code",
   "execution_count": 19,
   "metadata": {},
   "outputs": [
    {
     "data": {
      "text/html": [
       "<div>\n",
       "<style scoped>\n",
       "    .dataframe tbody tr th:only-of-type {\n",
       "        vertical-align: middle;\n",
       "    }\n",
       "\n",
       "    .dataframe tbody tr th {\n",
       "        vertical-align: top;\n",
       "    }\n",
       "\n",
       "    .dataframe thead th {\n",
       "        text-align: right;\n",
       "    }\n",
       "</style>\n",
       "<table border=\"1\" class=\"dataframe\">\n",
       "  <thead>\n",
       "    <tr style=\"text-align: right;\">\n",
       "      <th></th>\n",
       "      <th>Title</th>\n",
       "      <th>Author</th>\n",
       "      <th>Genre</th>\n",
       "      <th>Summary</th>\n",
       "      <th>len Summary</th>\n",
       "    </tr>\n",
       "  </thead>\n",
       "  <tbody>\n",
       "    <tr>\n",
       "      <th>11840</th>\n",
       "      <td>The Abyss of Wonders</td>\n",
       "      <td>Perley Poore Sheehan</td>\n",
       "      <td>[Science Fiction]</td>\n",
       "      <td>The novel concerns a lost race in the Gobi De...</td>\n",
       "      <td>10</td>\n",
       "    </tr>\n",
       "    <tr>\n",
       "      <th>11810</th>\n",
       "      <td>Seeds of Life</td>\n",
       "      <td>Eric Temple Bell</td>\n",
       "      <td>[Science Fiction]</td>\n",
       "      <td>The novel concerns the creation of a superman...</td>\n",
       "      <td>10</td>\n",
       "    </tr>\n",
       "    <tr>\n",
       "      <th>6395</th>\n",
       "      <td>Bullet Time</td>\n",
       "      <td>David A. McIntee</td>\n",
       "      <td>[Science Fiction]</td>\n",
       "      <td>Sarah Jane Smith encounters the Seventh Docto...</td>\n",
       "      <td>10</td>\n",
       "    </tr>\n",
       "    <tr>\n",
       "      <th>10853</th>\n",
       "      <td>Stone Tables</td>\n",
       "      <td>Orson Scott Card</td>\n",
       "      <td>[History, Fiction]</td>\n",
       "      <td>Stone Tables is a novelization of the life of...</td>\n",
       "      <td>10</td>\n",
       "    </tr>\n",
       "    <tr>\n",
       "      <th>12356</th>\n",
       "      <td>Yellow Fog</td>\n",
       "      <td>Les Daniels</td>\n",
       "      <td>[Speculative fiction, Horror]</td>\n",
       "      <td>The novel concerns the vampire Don Sebastian ...</td>\n",
       "      <td>10</td>\n",
       "    </tr>\n",
       "    <tr>\n",
       "      <th>...</th>\n",
       "      <td>...</td>\n",
       "      <td>...</td>\n",
       "      <td>...</td>\n",
       "      <td>...</td>\n",
       "      <td>...</td>\n",
       "    </tr>\n",
       "    <tr>\n",
       "      <th>14161</th>\n",
       "      <td>March to the Stars</td>\n",
       "      <td>John Ringo</td>\n",
       "      <td>[Science Fiction]</td>\n",
       "      <td>The story opens in the restored city of Voita...</td>\n",
       "      <td>6560</td>\n",
       "    </tr>\n",
       "    <tr>\n",
       "      <th>12448</th>\n",
       "      <td>Dawkins vs. Gould</td>\n",
       "      <td>Kim Sterelny</td>\n",
       "      <td>[]</td>\n",
       "      <td>In the introductory chapter the author points...</td>\n",
       "      <td>7182</td>\n",
       "    </tr>\n",
       "    <tr>\n",
       "      <th>14619</th>\n",
       "      <td>Fire World</td>\n",
       "      <td>Chris D'Lacey</td>\n",
       "      <td>[Fantasy]</td>\n",
       "      <td>It opens on the planet Co:pern:ica with Couns...</td>\n",
       "      <td>7958</td>\n",
       "    </tr>\n",
       "    <tr>\n",
       "      <th>518</th>\n",
       "      <td>The History of Tom Jones, a Foundling</td>\n",
       "      <td>Henry Fielding</td>\n",
       "      <td>[Fiction, Novel]</td>\n",
       "      <td>The novel's events occupy eighteen books. Squ...</td>\n",
       "      <td>9055</td>\n",
       "    </tr>\n",
       "    <tr>\n",
       "      <th>12350</th>\n",
       "      <td>Kushiel's Mercy</td>\n",
       "      <td>Jacqueline Carey</td>\n",
       "      <td>[Speculative fiction, Fantasy]</td>\n",
       "      <td>Upon reaching the City of Elua, Sidonie and I...</td>\n",
       "      <td>10334</td>\n",
       "    </tr>\n",
       "  </tbody>\n",
       "</table>\n",
       "<p>16496 rows × 5 columns</p>\n",
       "</div>"
      ],
      "text/plain": [
       "                                       Title                Author  \\\n",
       "11840                   The Abyss of Wonders  Perley Poore Sheehan   \n",
       "11810                          Seeds of Life      Eric Temple Bell   \n",
       "6395                             Bullet Time      David A. McIntee   \n",
       "10853                           Stone Tables      Orson Scott Card   \n",
       "12356                             Yellow Fog           Les Daniels   \n",
       "...                                      ...                   ...   \n",
       "14161                     March to the Stars            John Ringo   \n",
       "12448                      Dawkins vs. Gould          Kim Sterelny   \n",
       "14619                             Fire World         Chris D'Lacey   \n",
       "518    The History of Tom Jones, a Foundling        Henry Fielding   \n",
       "12350                        Kushiel's Mercy      Jacqueline Carey   \n",
       "\n",
       "                                Genre  \\\n",
       "11840               [Science Fiction]   \n",
       "11810               [Science Fiction]   \n",
       "6395                [Science Fiction]   \n",
       "10853              [History, Fiction]   \n",
       "12356   [Speculative fiction, Horror]   \n",
       "...                               ...   \n",
       "14161               [Science Fiction]   \n",
       "12448                              []   \n",
       "14619                       [Fantasy]   \n",
       "518                  [Fiction, Novel]   \n",
       "12350  [Speculative fiction, Fantasy]   \n",
       "\n",
       "                                                 Summary  len Summary  \n",
       "11840   The novel concerns a lost race in the Gobi De...           10  \n",
       "11810   The novel concerns the creation of a superman...           10  \n",
       "6395    Sarah Jane Smith encounters the Seventh Docto...           10  \n",
       "10853   Stone Tables is a novelization of the life of...           10  \n",
       "12356   The novel concerns the vampire Don Sebastian ...           10  \n",
       "...                                                  ...          ...  \n",
       "14161   The story opens in the restored city of Voita...         6560  \n",
       "12448   In the introductory chapter the author points...         7182  \n",
       "14619   It opens on the planet Co:pern:ica with Couns...         7958  \n",
       "518     The novel's events occupy eighteen books. Squ...         9055  \n",
       "12350   Upon reaching the City of Elua, Sidonie and I...        10334  \n",
       "\n",
       "[16496 rows x 5 columns]"
      ]
     },
     "execution_count": 19,
     "metadata": {},
     "output_type": "execute_result"
    }
   ],
   "source": [
    "df = df[df['len Summary'] >= 10].copy().reset_index(drop = True)\n",
    "df.sort_values('len Summary')"
   ]
  },
  {
   "cell_type": "code",
   "execution_count": 20,
   "metadata": {},
   "outputs": [
    {
     "data": {
      "text/plain": [
       "' Upon reaching the City of Elua, Sidonie and Imriel find that there are many people awaiting them. Some, like the Yeshuites and the Tsingani, are there simply because Imriel was foster-son to Phèdre nó Delaunay and Joscelin Verreuil. Also there are small knots of people, each wearing black armbands around one of their arms, signifying death. They all hold out their fists, thumbs pointed downward. Imriel later learns that these people are the families of his mother, Melisande Shahrizai\\'s, victims. In the City, Imriel parts ways with Phèdre and Joscelin, declining their offer to stay at the townhouse in favor of confronting Queen Ysandre. Upon reaching the palace, Imriel comes to find that the Queen has seemed to have cooled off since he had last seen her. His room are ready for his use and he takes the opportunity to have a much-needed bath. Hearing a commotion outside his door, he allows his cousin, Mavros Shahrizai, to be admitted to see him. Mavros comes in and begins berating Imriel for not sending word and worrying him. His anger melts away, though, and he sits and listens to Imriel\\'s story - of Imriel\\'s hunt for Berlik, how he was captured, how Berlik wanted to die, and how Imriel made it back and buried Berlik\\'s head at Dorelei\\'s feet. The conversation eventually drifts to Imriel and Sidonie, and Mavros offers the support of House Shahrizai, though he warns that it may not count for much. Imriel is then summoned to a meeting with the Queen in her private chambers; the attendance of her Secretary of the Presence, however, showed that this was an audience of state and not a family chat. The Queen thanks him for avenging Dorelei\\'s death, then promptly dismisses him, telling him they\\'ll talk about the \"other matter\" at another time. She also tells him that a Priest of Elua would be by to see him soon. One of Sidonie\\'s personal guard finds him after the audience, and tells him that the Dauphine has requested to see him. He follows and tells Sidonie about the upcoming meeting with the priest. Sidonie says that she had to prove her love for Imriel to the priest, and now Imriel must convince him. The Queen, as a way of delaying her decision, decides to treat Imriel and Sidonie\\'s love like it does not exist. Eventually, the summons from the priest comes. Imriel asks Sidonie what she had said to convince the priest. She says that she spoke of how, sometimes, it isn\\'t the person who choses but love itself. She had said that her mother would have allowed her anyone else, but that then she would have learned nothing of the power and might of love. More than that Sidonie does not mention, saying that she wants Imriel\\'s reactions and replies to be genuine and not appear rehearsed. The next day, Imriel goes to see the priest. He is escorted to the large common area and finds that there are priests of all of Elua\\'s companions except Cassiel, there to decide on the sincerity of his love. Imriel tells the priests and priestesses of how he loved Sidonie, how he would do anything for her, how others had been hurt because they had defied Blessed Elua\\'s precept. Even though Irmiel can not explain why, he does his best to make his feeling known. The Kusheline priest is the first to declare that he believes Imriel. The priestess of Namaah and priestess of Eisheth both voice their approval at exactly the same moment. After some discussion, the opinion is shared by Shemhazai\\'s priest, Anael\\'s priestess, Azza\\'s priest, and the priest of Camael. The priest of Elua verifies with his counterparts and informs Imriel that he will deliver their opinions directly to the Queen. Finally the time has arrived for Ysandre to deliver her decision on Imriel and Sidonie\\'s relationship. Before a packed Hall of Audience, Ysandre asks both Sidonie and Imriel if it is still their wish to be united and acknowledged in the eyes of the realm and the throne. Upon their consent, Ysandre declares that she will not forbid their relationship because the priests declare their love to be genuine and she must abide by Elua\\'s precept, \"love as thou wilt.\" BUT, their relationship is causing much turmoil in the kingdom and verging on civil unrest. So, if Sidonie declares Imriel her consort, Ysandre says she will not acknowledge it and thereby give it no legal binding. If Sidonie marries Imriel, Ysandre states she will disinherit her and her title to the throne will go to Alais. The only way around this vow, unofficially understood, is for Imriel to find and bring his mother to justice - the execution she managed to escape from twenty-one years ago. Following this declaration, Imriel, Sidonie, and a few of their closest, most trusted friends hold a conference of their own to decide what to do. Sidonie immediately dismisses the idea of setting off to find Melisande anytime soon, on the ground that she wants Imriel to be around as long as humanly possible. Imriel proposes the idea of asking The Master of the Straits for assistance, by searching with his mystical sea-mirror. That night, Imriel realizes that he has to tell Sidonie about a shadowy part of his history - his involvement with the Unseen Guild. He speculates that could find his mother\\'s whereabouts by contacting them, but to do so, he has to tell Sidonie of the dangers they present. Once she is informed, she goes to find her mother and have a talk about the situation. During this time, Imriel is asked to see Claude de Monluc, the captain of Sidonie\\'s guard. It appears that Claude de Monluc is worried that Imriel might be after his post. Imriel manages to allay his fears and they come to an understanding. Upon her return from her talk with her mother, Sidonie tells Imriel that her mother already knew of the Unseen Guild, from Phèdre. Though Imriel had told Phèdre a year earlier, he did not know that she had told the Queen. In the months that follow, they settle into a routine. There are Parliamentary decisions to made, parties to attend, plans to be made. Finally, word comes back from The Master of the Straits: Melisande is not on Alban or d\\'Angeline soil. She is somewhere else. Imriel realizes that he will have to call upon the Unseen Guild and decides to contact Diokles Agallon, who had approached Imriel for a favor on the Guild\\'s behalf a couple years before. Before he puts that plan into motion, however, he decides to get as much out of his situation as he can. The Longest Night is approaching, and he and Sidonie decide to attend it together. Calling on Favrielle nó Eglantine, the two decide on their theme for their costumes - Night and Day. Imriel would be Night and Sidonie Day. The Palace Ball goes smoothly, except, however, for a minor lord from one of the estates bordering one of Imriel\\'s holdings. The lord, who is more than a little drunk, begins to insult Sidonie publicly. It becomes clear that the lord has been put up to this by Barquiel L\\'Envers, who still has a deep-seated grudge against Imriel. Both are promptly thrown out by Ysandre herself. Finally, with the arrival of winter, the time had come for Imriel to put his plan into motion. He writes to Diokles, being very vague and suggestive in his letter. Once sent, he settles into his other problems. When spring arrives, people began to wonder at Imriel\\'s lack of action. Sidonie dismisses the guards in her service who have been gossiping about her and Imriel\\'s relationship, and finds that there are many more who apply to take these positions. Upon choosing the replacements, she finds that they want to dote on her. Soon after, Imriel decides to keep his long-standing promise to Alais and goes to Montrève to select a new puppy for her. Sidonie goes with him, and they pass several days of happiness and peace with Phèdre and Joscelin at Montrève. At long last, Imriel\\'s response arrives. But it was not what he had expected. To all outward appearances, the letter seemed to be a love note from a besotted peer. Upon further inspection, however, Imriel finds the note contains a hidden message, similar to the medallion Canis had given him in Kushiel\\'s Scion. Upon research, Imriel learns the message says that Diokles does not have the answers Imriel wants but someone in the Carthaginian entourage does. All Imriel had to do is push for their delegation to enter the City of Elua and the answer will present itself to him. There has been a Carthaginian delegation awaiting approval for entry into the City of Elua for a weeks now, with no decision having been made yet. The new general of Carthage, Astegal of Sarcal, wishes to make alliances and become better friends with his neighbors, and he claims he is enamored with Terre d\\'Ange. The Queen is cautious, however, because Carthage and Aragonia seem to be having tense relations, and it is clear that Carthage wants to occupy Aragonia. Aragonia is a long-time ally of Terre d\\'Ange, including through marriage via Nicola L\\'Envers y Aragon, and sent a squadron of their best archers to help defend Terre d\\'Ange at the Battle of Troyes-le-Mont. Upon this news from the Unseen Guild, Imriel and Sidonie go to speak to the Queen. Ysandre does not seem too upset about the proposal, but is curious and cautious. Soon after, as planned, Ysandre convenes a session of Parliament with the intent to decide on whether or not to allow the Carthaginian delegation into the City. After hearing the long list of tribute General Astegal has to give them, Parliament, almost unanimously, votes to allow them entry. Imriel, however, feels uneasy about the prospect and worries about what the Unseen Guild has to do with all this. About two weeks later, six Carthaginian ship sail into the City\\'s docks. As the tribute is being unloaded, Astegal of Sarcal comes to speak to Ysandre, Drustan, Sidonie and Imriel. He says many flattering things and actually seems genuinely interested in the City of Elua. He also brings news from his horologists that a great occurrence in the skies will happen soon. He has even brought his horologists with him to show the entire city a \"marvel\", which can only be seen when the moon falls under the world\\'s shadow and the planets are aligned just so. That night, the Queen throws a fête in honor of the Carthaginians. It is at this celebration that a man named Sunjata, an apprentice to a Carthaginian jeweler, comes up to speak to Imriel. Imriel learns that Sunjata is a eunuch and it seems that they have somewhat in common, both having been abducted by Carthaginian slavers. Just before parting, Imriel discerns that Sunjata is a member of the Unseen Guild but he is separated from him before he can ask anything else. Soon after, another man, Gillimas Hiram, approaches Imriel bearing an offering from the Council of Thirty as an apology for Imriel being abducted by Carthaginians. Imriel notices the gift contains the symbol of the Unseen Guild, the inverted lamp. Gillimas also says that, should it catch his fancy, Imriel should make a journey to the isle of Cythera, where the wood to make the gift had come from. It was thus clearly hinted by Gillimas that he is also a Guild member. However, no more than this is exchanged and Imriel unfortunately loses track of him before the end of the party as well. The next day, Imriel hears that Astegal wants to experience the pleasures of the Night Court and wishes Imriel to accompany him. During the excursion, Imriel learns from Astegal, which he had already heard from Sidonie, that Astegal had made a bid for Sidonie\\'s had in marriage. Imriel dismisses this as politics and it seems that Astegal does not know of Imriel\\'s relationship with Sidonie. Upon arriving at Jasmine House, Imriel sees an opportunity to gather more information about the Unseen Guild; Gillimas has joined the group going to the Night Court, gotten very drunk, and has taken a liking to one of the adepts. Imriel asks the Dowayne to have the girl seeing to Gillimas to come and get him once he had passed out. She does and Imriel sneaks into the room. He sits on Gillimas, ready to strangle him, and threatens him to get him to talk plainly. While this is all a ruse, Gillimas falls for it and is frightened enough to tell Imriel that his mother is indeed on the Isle of Cythera, the mistress of the lord of Paphos. After all have been sated at Jasmine House, Imriel goes back to the castle and Gillimas tells no one what happened. Imriel tells Sidonie what he did and she wonders at the safety of the attempt. The next day, however, the horologists\\' spectacle is to take place, so the incident will have be discussed later. Imriel keeps having a sense of impending trouble about the horologists\\' \"marvel\" but without any real reason. He goes to look at the progress of the set up; large mirrors are being carefully placed all around the walls of the city, being headed by Astegal\\'s half-brother, the scholar and mage Bodeshmun. While the city will be well protected, Imriel\\'s gut feeling still says that something is very wrong. Imriel and Sidonie quarrel for the first time about this. They go to the Queen and tell her privately of his feelings, but since he has no good reason to call it off and no proof of something wrong, they all agree that spectacle will have to go ahead. The city is well guarded and the preparations have been closely watched including by D\\'Angeline horologists, who have no idea what this \"marvel\" behind the lunar eclipse could be. On the evening of the spectacle, everyone in the City is gathered around Elua\\'s Oak in the central square to watch the show. Just before it begins though, Sunjata reappears and asks for a private word with Imriel. Though reluctant, Imriel is sure that it must be related to the Unseen Guild and his mother and thereby is very important. The show is nearly beginning and everyone is looking into the sky and mirrors. Alone and off to the side under the large oak, Sunjata leans in and tells Imriel somewhat before stabbing him with a long needle. Imriel falls to the ground in agony, with no one noticing, as the \"marvel\" begins. Sunjata tells Imriel that he is sorry and that it is hard serving two masters. He tells him that the fever will break in a month, that he is lucky his mother loves him, and that if he wished to undo what has been done, he must go to Cythera and speak to Ptolemy Solon. Sunjata then steals his ring - the simple gold ring with a knot in it, of which Sidonie has the matching one and is a token of their love - and leaves. Writhing on the ground, confused and alone, looking at all the city staring at the sky, Imriel sees a green flash, then passes out. Imriel wakes up in a bed, feverish and not knowing who or where he is. Slowly, his sense of self returns, but he does not know anyone around him. All he knows is that he must reach Cythera. He shouts obscenities and threats at the people caring for him, not knowing who they are. He is tied to the bed and writhes against his bonds, giving himself lasting scars, flailing like a madman. This lasts for what seems forever. Then all at once, at the touch of the full moon\\'s light on his skin, the madness vanishes and Imriel comes back to himself, weak and disoriented. Phèdre is next to his bed, dozing in a chair and looking clearly haggard. Imriel speaks to her and, realizing he seems sane, she calls Joscelin. Imriel convinces them that he is all right. He realizes that it was Phèdre and Joscelin who had taken care of him in his madness and all of the truly horrible things he said to them. They easily forgive him, knowing it was the madness and not him. He realizes, however, that he remembers nothing of Sidonie coming to see him or take care him. He asks how she is and why she didn\\'t come, and Phèdre and Joscelin look clearly puzzled. After a few moments he begins to realize that, even though he has overcome his madness, they all seem to be clearly mad and confused. They do not remember his relationship with Sidonie, and during his trying to remind them, it reaches the point where Phèdre and Joscelin begin to think Imriel is still insane, even though he is quite himself. They tell him that Carthage is a very close friend of Terre d\\'Ange and that Sidonie has happily gone off to marry Astegal nearly a month ago! Trying to regain his strength (for he ate little during his madness and strained his muscles nearly constantly), and remembering what Sunjata said to him, Imriel begins to think of ways to get out of the city and go to Cythera. He overhears a conversation between a guard and a chambermaid that Barquiel L\\'Envers and Ysandre had been in a shouting match, with L\\'Envers telling her she is mad to align with Carthage. And then it occurs to him: everyone in the city seems to be under the same madness as Phèdre and Joscelin, but L\\'Envers had not been in the city that night. He thinks that this must only be affecting those who saw the \"marvel\", of which no one can seem to explain what they saw and what it was other than that it was amazing. He sees a thread of hope and gets up, leaving the room, and demanding to speak to L\\'Envers. After a bit of a scuffle, Barquiel agrees to see Imriel, realizing that they both are not under the madness that has gripped the City of Elua. Imriel tells him everything - including the bits about the Unseen Guild and Cythera. Barquiel implies that he had heard of the Guild years ago, but dismissed it without evidence. He also tells Imriel that Ysandre was even considering sending the D\\'Angeline army to the Aragonian border in support of Carthage\\'s new war on Aragonia! Barquiel L\\'Envers and Imriel quickly realize, grudgingly, that they must trust each other despite their long history of animosity, for the good of Terre d\\'Ange. Imriel asks Barquiel to help get him out of the city and to Cythera. During their discussion, Imriel realizes that, if he makes it to Cythera, the price for Solon\\'s help will likely be a pardon for Melisande. Barquiel is reluctant at first, but Imriel says that he still has to try. He also tells Barquiel that, one way of diverting at least some of the madness, would be to send to Alba for Alais and try to talk some sense into Ysandre and Drustan. She would be the only one capable of sitting the throne, Imriel reasoned, and Barquiel grudgingly agrees that it might actually be plausible. Barquiel agrees to assist Imriel but also swears a vow to him: if he proves false or fails, Barquiel will make it his life\\'s work to hunt Imriel down and kill him. Imriel agrees, and the plans are set. Imriel takes a trip to the Temple of Eisheth, under the guise of a \"healing journey.\" While alone, one of Barquiel\\'s guards comes to get him and, under a heavy cloak, escorts him to a carriage. Imriel soon arrives at the City\\'s wharf, where Barquiel has found a barge willing to take Imriel down the Aviline River on the way to Marsilikos. Imriel is then on his own to find his way to Cythera. Imriel\\'s horse is waiting on the barge - he insisted he must have \"the Bastard\" with him - and those working on the barge have not been affected by the city\\'s madness and are thereby willing to help him and stay quiet about what they do. One piece of information catches Imriel\\'s attention - Jeanne de Mereliot, the daughter of the Lady of Marsilikos, was not in attendance at the \"miracle\" in the City of Elua. Upon his arrival in Marsilikos, under an assumed guise, Imriel sends her a message. A reply comes back swiftly; a meeting is arranged and Imriel goes to see Jeanne, whom he has met before. During this meeting, Imriel tells her all that has happened to him. She decides to research a bit about the needle and why Imriel went mad for a month. She learns from a Hellene book, \"To induce madness, forge a needle of silver that has never seen daylight, one hand-span\\'s length. Bathe it in the sweat of a lunatic\\'s brow mixed with the effluvium of a horned toad. For one year, expose it to the light of the full moon. When plunged into the vitals, it will induce madness for the duration of the moon\\'s cycle.\" After talking with Jeanne, Imriel manages to secure passage on a ship bound for Cythera. As it so happens, the ship that would be carrying him and his horse, the Bastard, to Cythera was none other than the Aeolia, the ship that had carried him to Tiberium and back a couple years earlier (see Kushiel\\'s Scion). Without any incident, they made it to Cythera, and the next stage of Imriel\\'s journey. Imriel finds his way to a villa and sends a request for an audience with Ptolemy Solon, called the \"Wise Ape\" for his vast brilliance and unbelievable ugliness. The next day, Imriel receives his summons, and meets with Solon. Solon knows who Imriel is, even though he had been traveling under the name \"Cadmar of Landras\". Solon tells Imriel that Melisande is indeed on Cythera, but in her own private villa, and that he wanted to talk to Imriel alone first. Solon asks Imriel whether the needle had worked or not, and also says that he is undecided on whether or not to help him. He does tell Imriel, however, that the most likely way to sway him would be to commute Melisande\\'s sentence from execution to exile. During this conversation with Solon, Imriel also learns that Sidonie has actually married General Astegal, some two weeks before Imriel arrived on Cythera. Also, Solon says that Carthage should be preparing to launch its invasion of Aragonia soon. Solon asks Imriel if he would willing see his mother, and Imriel agrees to do so. They have another intellectual discussion, and then Imriel is sent to bed, so that he may see his mother the next day. Imriel, while practicing his Cassiline swordsmanship, meets Leander Maignard, who is clearly of Kushiel\\'s line and a distant kinsman, there to take Imriel to his mother. Once at his mother\\'s villa, Imriel meets her for the first time in many years, and is at a loss for what to say. He tells her that her sentence will be commuted to exile if Solon helps Terre d\\'Ange, and Imriel is successful and he will do anything she asks to obtain her help. She thanks him for the offer, but asks only that he talk to her for a while. She assures him she will talk to Solon and request his assistance, for she does care for Terre d\\'Ange deeply, but that she can not assure him that Solon will decide to help. They talk for the rest of the day and Imriel realizes he cannot hate his mother, and even comes to care for her in some small way. He feels she is repentant for what she has done, somehow, though that can not make up for the lives she has ruined. The next day, Imriel again meets with Solon. Solon says that he had enough information to hazard a guess at what Carthage means to do, but he makes Imriel tell the tale, over and over and over again. After many, many tellings, Solon sends Imriel away to begin working on figuring out how to unravel Carthage\\'s spells. During this time, Imriel spends more time talking to Melisande and Leander, learning about them and what has happened since Melisande escaped the Temple of Asherat in La Serenissima. Finally, Solon sends word that he has found the key. Solon tells Imriel that there are several spells at work: one bound to Terre d\\'Ange and one bound to Sidonie. Imriel learns that there is malevolence at the heart of the spell that binds Terre d\\'Ange, a bound ghafrid-gebla, or desert spirit also called an elemental. The way to end the spell would be to free the ghafrid, but to do so, Imriel must find the vessel it is bound to and how to open it. Second, to free Sidonie, he must retrieve his gold knotted ring from Astegal, who now wears it to hold Sidonie\\'s love to him. There is only one way to do both of these: Imriel must sneak into Carthage. But everyone knows who he is, so he will have to go under the guise of a glamour. The only troubling part is Astegal\\'s brother, the great sorcerer, will not be fooled by any casual disguise. A simple glamour will not work. Imriel must believe he is this other person. The person chosen for Imriel to become is none other than Leander Maignard. Solon warns Imriel of the risks, but there is no other solution, and Imriel is sure that the love between him and Sidonie will be felt through any spell and help them to succeed. Later, Solon performs the rituals, weaving the glamour into all of Leander\\'s clothing and personal items. The only way anyone will see Imriel as Imriel would be if they saw him mother-naked. Then Solon submerses Imriel\\'s consciousness into himself, making him believe he is Leander. To help with the effect, Leander tells his life story to Imriel while he is in trance, making Leander\\'s story his own. This spell will only be reversed, making Imriel become himself once again, when he kisses Sidonie on the lips. With everything in place, Imriel, thinking himself Leander, sets off for Carthage, to be Solon\\'s ambassador to Astegal and help the Unseen Guild, or so he now believes. (Note: because of the hypnosis and spells, Imriel now thinks of himself as Leander, and shall be referred to as such until he is returned to himself) Leander arrives in Carthage, and quickly integrates himself into the scene. He rents a house, with full staff, and goes to the slave market to purchase some bearers for his palanquin, which every noble \"needs\" to have in Carthage. Being on a diplomatic mission from Cythera\\'s ruler, Ptolemy Solon, he is adequately endorsed to afford all he needs. At the market, Leander sees an Aragonian boy being sold, spoils of the war with Aragonia, which upset him for some unknown reason. He quickly dismisses it, however, in favor of finding his bearers. He picks an older Hellene wrestler, two Carthaginian brothers, and an Amazigh, a man of the southern tribes of the desert. Once back at his house, Leander lays out his plans to them and promises to set them free once he has accomplished his goals, thereby managing to secure their loyalty. First, Leander has the old Hellene wrestler, Kratos, learn the streets of the city so that he may find his way around more easily. Leander then goes to see his friend from Cythera, Sunjata - the same Sunjata who had stabbed Imriel with the needle - under the guise of needing a new gemstone for a damaged ring. Pretending they do not know each other, a deal is struck. Sunjata is later sent to see Leander and show him some of the gems. Leander greets Sunjata and takes him to his room. It becomes clear that they had been lovers in Cythera and Leander flirts with Sunjata asking how much time until he has to get back. He also gives him a letter from Melisande that he has sworn not to read. In the letter, Sunjata is clearly told of the spells on Leander - or Imriel. He asks Leander to get naked, which he does happily, including taking off his ruby earrings that he always wears. Sunjata stares at him for a while, now seeing him truly as Imriel, but says nothing. Feeling hurt, Leander asks what is wrong and Sunjata demurs, telling him nothing of the spells. They make love and afterward Leander tells Sunjata his plan. Sunjata is cautious but does as the letter from Melisande clearly must have instructed him: go along with it and help Imriel. In the streets of Carthage, Leander goes to Astegal\\'s house to see the royal escort and palanquin with princess Sidonie in it. She is always escorted by four Amazigh but is still trying to interact with the townsfolk who have come to see her, feeling that she is well-loved. Leander is struck by her beauty and becomes enamored by her though he knows he can never have her, given that she is a princess and now married. Still, he has overwhelmed by his desire to see her, which catches him entirely by surprise. Sunjata, who was with him, is surprised as well but makes sure that Leander stays on course and does not embarrass himself. Leander soon learns that, to see the D\\'Angeline princess Sidonie de la Courcel, he must go through Bodeshmun, the hologist half-brother of Astegal. He plans a meeting with Bodeshmun where he sends his compliments from Solon and flatters him greatly about his magical skills. Leander says he wants to see Sidonie in order to see the power of the spells and figure out how they work; only because it is an intriguing puzzle and because Leander and Solon want to learn the \\'marvel of Bodeshmun\\'s magical knowledge\\'. Bodeshmun, feeling very proud but still cautious, after much consideration consents to allowing Leander to see princess Sidonie but threatens to mortally injure him if he upsets her in any way or reveals that she is under a spell. Leander agrees. The first time Leander goes to see Sidonie he makes a bit of a fool of himself while trying to flirt with her. She is charmed, however, perhaps by his very foolishness and he is told to come to see her the next day, so that they may get to know each other better over chess. On his way home, Leander finds he cannot stop thinking about her and wonders what is wrong with him. The next day, he presents himself at Astegal\\'s home to play chess with Sidonie, as they had arranged. Their sessions continue for several days. During the time, Leander is secretly looking her over to see what she wears that is the same every time, to find her item that binds her to the love-spell connection with Astegal. He makes a gambit, thinking her ring might be it, and finds out it is not. The puzzle continues but at least he knows one side of the spell; Leander has Sunjata make a replica of Imriel\\'s gold ring, that Astegal now wears, to begin the other phase of his plan later on. Similarly, Leander gets his Amazigh slave to get him one of their traditional outfits -blue flowing robes that cover all but the eyes- and teach him how to tie it and wear it. This he does and Leander hides it in the bottom of his trunks. Over the course of their meetings, Leander comes to realize that he might be falling in love with Sidonie. Sidonie also comes to realize that Leander is discouraging her from talking about Terre d\\'Ange, which he was told to do by Bodeshmun, and this unnerves her. During one of the meetings, after Sidonie has discreetly questioned Leander about why he is acting strange and why she can not know anything about Terre d\\'Ange, she invites him to go with her to New Carthage (Aragonia), which she would be departing for shortly in order to be with her husband, who is eager for heirs. Leander agrees, as it would progress his plans. He also finally comes to realize he is deeply in love with Sidonie. Before setting off for New Carthage, Leander releases his slaves. All but Kratos leave him to find their ways in the world but Kratos likes him and stays on as a loyal man. Upon arrival in New Carthage (Aragonia), Leander manages to secure lodging in the palace from Astegal, who had been convinced to do so by Sidonie, and sees Leander as a harmless friend. Also, Leander meets an old friend of his from Cythera, Justina, who also works for Melisande and perhaps the Unseen Guild as a spy. Later, she makes contact with him in the palace, and finding out that Astegal takes her to bed sometimes, Leander asks her to try to switch Astegal\\'s ring with the fake one he had made. Leander and Sidonie resume their games of chess while in New Carthage and learn more still about each other. After one such match, Leander finds a message from Justina awaiting him, and goes to see her, finding that she could not do as he asked and she returns the fake ring to him. Kratos, however, saves the day by presenting an alternate plan with the same outcome: have one of the Aragonian servants in the public baths switch the ring while Astegal is being massaged. Thus, Leander compels into his service a young girl named Esme, who hates Astegal and is more than willing to help him. It is decided between Leander and Esme that she will steal the ring and switch it for the fake that Leander gives her. As it turns out, the gambit pays off. Esme is able to steal Astegal\\'s ring, replace it with the fake, and deliver the real one to Kratos, who takes it to Leander. Unplanned by Leander, he witnesses an argument between Astegal and Bodeshmun; Astegal is shouting at Bodeshmun about Sidonie, who has regained a bit of herself (which Leander knows is because Astegal\\'s magical ring was taken) and had spoken to the Aragonian King, who is being held in the palace. She learned some very strange things and is realizing that some of her memories are disjointed and don\\'t make sense. During this time, a bond of trust has sprouted between her and Leander, though he is still being very cautious and she is never left alone with him. Due to Sidonie\\'s discussion with the King of Aragonia, Sidonie is now even more puzzled and beginning to get suspicious of those around her (except \"simple harmless Leander\"). In her discussion with the King, he said that they had been allies and that Terre d\\'Ange had betrayed them to Carthage, but her memories tell her otherwise. Bodeshmun is angry because he had instructed the Aragonians not to talk to her and not talk about the past. As punishment, Bodeshmun summons the Aragonians in front of an audience, including Leander, but without Sidonie. Bodeshmun takes a powder out and places it in his palm. A young Aragonian noble, who had spoken out in defense of his King, is told to step forward. Bodeshmun blows the powder in his face and suddenly the man begins to suffocate. He dies of suffocation in front of all watching as an example to obey Bodeshmun. This frightens everyone and disturbs Leander greatly. Finally, Astegal sets off to conquer the rest of Aragonia and leaves Bodeshmun in charge of Sidonie. Sidonie continues to endeavor to find a time when she and Leander can speak in private. They try taking a walk, but Astegal\\'s Amazigh guards tail them relentlessly. On their way back to the castle, having given up, an Aragonian gardener tries to attack Sidonie. Leander protected her faster than the guards and Sidonie seizes her chance. Bodeshmun calls Leander before him and compliments him on his reflexes with the princess. He also, in a conversation with Sidonie\\'s physician, alludes to the possibility that she might be with child. A few hours after Leander is dismissed from Bodeshmun, Girom, the physician, comes to tell Leander that the princess is deeply bothered by the attempt on her life and feels that no one can keep her safe except Astegal, who is not there, and Leander. The physician says she will not take a sleeping draught without Leander there to protect her and that she can not be reasoned with. Leander goes with him immediately to Sidonie\\'s apartments. Once there, Sidonie makes Leander promise to stay until she falls asleep and then guard her door while she sleeps, to which he readily agrees. The physician then tells her to take the sleeping draught, in front of him to make sure she has taken it, and she does. The physician then agrees to leave them alone, as she had asked, and that he will wait outside until Leander comes out. They are finally alone. Sidonie, who evidently was pretending to be more bothered than she is, says that the sleeping draught is very powerful and they don\\'t have much time. Quickly, she asks Leander to explain himself and why they are irresistibly drawn to each other, but instead ends up kissing him. This triggers the return of Imriel to himself, coming quickly and shockingly. Now realizing who he is and what has happened, he tries to convince Sidonie that she is under a spell. Having forgotten all about Imriel, she asks who he is, still thinking he is Leander. He explains to her why some of her memories don\\'t make sense and gets her to listen to him. They come to some small understanding of the situation, but, not wanting to push her and knowing the draught will take effect in soon, Imriel leaves to guard her door as he had promised. He tells Girom outside of her room that she sleeps, and Girom leaves. Imriel knows that all others still see him as Leander because of the spell woven into the clothes, but this will not fool Bodeshmun. He is scared that he will run into him any time and hurried to his rooms. Once back in his rooms, he sees Sunjata and realizes what had happened back in Carthage and what Melisande\\'s letter must have said. Sunjata has always known and seen him as Imriel. Sunjata, seeing that Imriel knows this and has come back to himself, takes out the trunk that Melisande had had Leander (Imriel) deliver to him in Carthage. In the trunk are Imriel\\'s weapons and bracers and some clothing. Imriel tells Sunjata that he must leave and that his debt to help Imriel has been paid; Imriel will not have his death on his hands. Sunjata agrees and says he will be gone in a day, back to Carthage. Kratos later appears and Imriel tries to explain the situation to him, and to send Kratos away with Sunjata because Imriel is afraid that Kratos will be harmed. Kratos chooses to stay, saying he doesn\\'t care who Imriel is, that he is an interesting fellow, and that he wants to see where this story goes. Thankful, Imriel and Kratos begin to set their plan into motion: rescuing Sidonie. Kratos finds a way for them to escape and learns the patterns of the Amazigh guards while Imriel stays hidden in order to avoid Bodeshmun. That evening, Imriel goes to see her, as she has asked for him again and he had said the night before that he would watch her again if she wanted. Once alone with her again, he learns that she has drugged the guards to buy them some time. They had decided that he would prove who is to her, so he begins to remove all of Leander\\'s clothing, keeping only a pair of pants (that he wore underneath) that were his own. She sees the truth of who he is and realizes that, somehow, she \"knew\" him but could not \"remember\" him. Believing his story that she is also ensnared and that she must be wearing something to tie her to Astegal, she removes all her clothing. Nothing happens. As she turns, Imriel sees that the spell was not in the clothing; she has been tattooed in the middle of her back with the seal of House Sarkal. She does not remember this at all and adamantly tells him to cut it out of her. He does so, feeling sick, but tells her to try to hide how much pain she is in, otherwise he will not be able to do it. Once it is done, she is back to normal and swearing to kill Astegal herself! Then she looks at Imriel, and asked how she could have ever forgotten him. Imriel explains that she hadn\\'t, that she had found him inside Leander, and they had simply fallen in love all over again, proving that Elua always has a purpose and a power when he unites people together. She stops his explanation with a kiss, and then asks him to erase every trace of Astegal from her flesh and soul. Imriel does so, and they make love with all that they are. Afterward, Sidonie asks Imriel to explain what is plan is to save Terre d\\'Ange, which he does. During the bandaging of her wounds, Imriel voices her concerns over her being with child, although he adamantly swears he will love any child of her blood. She explains that she couldn\\'t be, for she and Astegal had been married in the Carthaginian fashion, with no prayers to Eisheth to open her womb, and perhaps in that way she had always known that their relationship was not right. And so the last part of Imriel\\'s plan is put into motion. He and Sidonie come up with a plan to free her. That night, Imriel waits outside her door, dressed again as Leander, and communicates with the Amazigh that he won\\'t tell anyone they fell asleep, and that Astegal and Bodeshmun will never know their shame. The next night, Sidonie goes to Bodeshmun and tells him she is with child. They have a toast, as he is the only family she has to celebrate with now, but she has drugged the drink with some of the sleeping draught. Meanwhile, Imriel has disguised himself as an Amazigh warrior, and dispatched one of the Amazigh guards on his way to Bodeshmun\\'s quarters. He sneaks in and finds both Bodeshmun and Sidonie asleep. But as he moves, Bodeshmun wakes. He takes out the powder but Imriel is quicker. Imriel blows and Bodeshmun suffocates, like the Aragonian noble, on his own powder. Before he dies, Imriel whispers, \"It is not wise to meddle with D\\'Angelines in the matters of love.\" Imriel takes the talisman that contains the key word to the ghafrid-gebla, from Bodeshmun and then sits with Sidonie for hours, hoping she will wake. When she does not - time is running out, and someone is bound to check on them - he is forced to roll her into the carpet and carry her out through the wine cellar, hoping she does not suffocate. This was their plan, but she was not supposed to be unconscious! After a long and agonizing walk, he reaches the ship that had brought him from Cythera. The captain (who at first does not believe Imriel and thinks that Sidonie is being kidnapped), waits until he receives the order from Sidonie herself to set off. She, who has just woken up, does so, and they are off to Marsilikos. Once at sea, Imriel tells Sidonie, at her request, how Bodeshmun died. In the master cabin, he inspects her wound and finds that it is starting to become infected. Soon, however, they realize they are being pursued by swifter ships and being herded back to New Carthage. Someone in New Carthage had caught on and sent a ship after them. Realizing they could not get away, or reach Marsilikos in time, Kratos proposes a drastic plan. They have no other choice and it is put into motion. They go toward the still free city of Amilcar. It is blockaded by Astegal\\'s navy. Once close enough to the blockade, they set fire to the ship. Not wanting to catch on fire themselves, the Carthaginian ships spend all their efforts trying to move out of their way, without enough time to fire at them. They sail through most of the blockade and then switch to a rowboat, barely making it through, leaving their burning ship behind. They are taken into custody by the soldiers in Amilcar. Once everything is taken care of, the sailors and Kratos, who has suffered severe burns and a broken rib, along with Sidonie, all are seen to by a chirurgeon. Lady Nicola L\\'Envers y Aragon comes immediately to see them. She tells them that her son, Serafin, has taken over the rulership of Aragonia in the absence of the king and they set off to see him. At a council, Imriel and Sidonie explain their story and Imriel, still under Solon\\'s spell, reveals himself to dramatic effect and thereby proving the truth of his hard-to-believe tale. After the council, Sidonie receives a poultice for her infected wound, but is told not to move for two whole days. She dislikes this greatly, but abides, with Imriel\\'s help. Eventually, Serafin calls the council to discuss what is to happen. After a moving speech by Sidonie, they decide to assist Sidonie and Imriel but only if they can get Euskerrian troops to come to their aid and help fight the Carthaginians. Euskerria, a small country that is composed of land of both Aragonia and Terre d\\'Ange, has long wanted to be independent of Aragonian rule. Aragonia has refused this and Terre d\\'Ange will not give over Euskerrian territory without Aragonia doing the same. Aragonia agrees that, if the Euskerri help them, they will give them their territory and self-rule. But how do they get out of Amilcar? Serafin can not send many men to help them get past Astegal\\'s siege army camped outside their walls, but he commits some and gives them a brilliant plan. Before they depart, however, to raise spirits and so as to help give the impression to Astegal\\'s forces that the Aragonians would be drunk and disoriented and thereby not give an offensive the next morning, Nicola throws a fête. During this party, Imriel meets his kinsman Marmion, who expresses his desire to see things set right and his happiness at the prospect of having Sidonie as his near-kin by marriage to Imriel. The next night, the secret mission is launched. Imriel, Sidonie, and a single guide manage to get past Astegal\\'s army amid the planned chaos caused by the Aragonian soldiers. They make it to Roncal, the easiest-to-reach Euskerri settlement, within several days. But they are being pursued by Astegal\\'s Amazigh, three hundred strong, though they are a few hours behind. Quickly, Imriel and Sidonie persuade the people of Roncal to fight but they force Imriel to fight with them as a sign of commitment. The Amazigh are slaughtered with minimal loss on the Euskerri side. Now, Janpier Iturralde, the closest thing to an ambassador the Euskerri have, convenes a meeting of all the villages in Euskerri. Within a few days word has spread and the village representatives, which is nearly everyone, arrive. After incredibly long discussion, they come to a decision: the Euskerri will help Aragonia and take their sovereignty, but only if Imriel and Sidonie go with them. They are highly displeased by this for they are only a couple days from Terre d\\'Ange which is still ensnared in Bodeshmun\\'s spell. They do not even know what the state of their country is and are eager to heal their country. After much debate between Imriel and Sidonie, they decide they little other choice and cannot make it through Euskerria without the consent of the Euskerri. They swear to go with them. All the Euskerri settlements are alerted and it is expected that some six thousand will show up at the decided location. Imriel and Sidonie, who is well trained in war tactics, plan their siege of Astegal\\'s forces. Given that the Eukerri do not entrust war to women, however, Imriel presents the plan. The Euskerri like it, though it is very different from their own tactics, and the plan is put into motion. Imriel has three hundred Euskerri don the Amazigh\\'s garb, to try to draw Astegal\\'s forces out. This group leads a portion of Astegal\\'s forces into an ambush, the favorite tactic of the Euskerri, killing all of them but not without heavy losses. At the same time, Serafin launches his own attack and the battle breakes out. The other Euskerri attack and the Amazigh-group, led by Imriel, later make it back to the battlefield. Once the fighting finally stops, Imriel learns that Astegal has been captured alive, much to his and Sidonie\\'s delight, but then learns of the losses incurred in the battle: of the six thousand Euskerri who had come to help, only fifteen hundred remain. Still, they had held up their end of the deal and Aragonia gives them their sovereignty. All that remains is Astegal\\'s execution. The next day, as Astegal is being walked to the block, he breaks his bonds, steals the executioner\\'s sword, and takes Sidonie hostage. Imriel, who suffered from a wound taken the day before, offers him a deal: fight him one on one, and if Astegal wins, he will get a fast horse and an hour\\'s lead. Astegal accepts, despite Imriel\\'s insistence that he will not win. During the fight, Astegal tries to upset Imriel by telling him of things he had done to Sidonie, but gets no reaction. In his arrogance, he lets his guard down and Imriel stabs Astegal in the stomach. Imriel then tells Astegal what he had said to his half-brother Bodeshmun, \"It is not wise to meddle with D\\'Angelines in the matters of love.\" But before the killing blow, Sidonie asks to share the death. She places her hand on Imriel\\'s, over the hilt of his sword, and together they drive it through Astegal\\'s heart. With the loss of their leader, the Carthaginians flee back to New Carthage, where they will hopefully be easily overrun, especially once Terre d\\'Ange comes back to Aragonia\\'s aid. Finally, it is time to return home. Sidonie, Imriel, and Kratos board a ship captained by the same man who had brought Imriel from Cythera and head for home. On the way to Marsilikos, Imriel suddenly remembers that anyone affected by the spell who leaves the shores of Terre d\\'Ange would be outside of the spell\\'s range and regain their wits but, once back on the shores of Terre d\\'Ange, they would lose them all over again. He speaks to Sidonie about it but they have no idea what to do. Upon reaching Marsilikos, they are stopped by a ship from Admiral Rousse\\'s navy, but who is loyal to Alais. They explain what has happened and the details of the spell. Apparently, the more one tries to talk sense into the people affected, the more belligerent they become, and things in Terre d\\'Ange have taken a serious turn for the worse. They must go see Alais. Sidonie is also desperate to see her sister, but she cannot step on D\\'Angeline soil. Imriel, however, gets an idea. Imriel decides to cast the spell that was cast on him by the ollamh in Alba in a last-ditch effort to keep Sidonie sane. He gets all the components needed and does the binding ritual. They step onto the land of Terre d\\'Ange, and the bindings seem to have worked, though for how long, they do not know. They are secreted to Turnone, where Alais, Barquiel L\\'Envers, and a shadow Parliament are ruling everything outside of the City of Elua. They make it inside and meet with Alais and Barquiel. During their time in Euskerria, Sidonie and Imriel had sent a messenger to warn Barquiel of the dangers of the spell, and what bound it - a green gemstone - with instructions to look for it. Upon arriving, Imriel learns that, despite a thorough search, no gemstone had been found. After only a short while, for they want their presence to remain a relative secret just in case, they meet with the shadow Parliament, giving them hope. They also learn that Ysandre, seeing plots and deceit everywhere, has decided to declare war on Alais and Barquiel and vowed that, after one month to think about it, she will begin to sack one town every day until they kneel before her and surrender. Horrified, Sidonie hatches a quick plan: she will take Imriel and Kratos into the City with her, with her as the grieving widow, Kratos as her husband\\'s most loyal bodyguard sworn to protect her, and Imriel as her still-mad cousin who seems besotted with her, but eases her soul. They set their plans into motion and leave, secretly again, on the same barge that had carried Imriel out of the City, back into madness. It is also clear that Sidonie\\'s bindings fade with time, and they do not know how long she will remain immune. Reaching the City, they are admitted readily once the guards realize who Sidonie is. Ysandre and Drustan await them, and they listen gravely to her story. It is clear that those in the City have been deeply affected by the spell. Violence is far more commonplace, as are severe punishments. Phèdre now treats her servants as non-equals, Joscelin has sworn that if Ysandre seems to be losing, he will perform the terminus for her, and Mavros has blood-lust and has joined the military. Truly, the spell has evil at the heart of it. Sidonie, at the funeral for Astegal, proposes to the whole City that they scour the City for a green gemstone that Bodeshmun gave Terre d\\'Ange to protect its borders. After five days of nothing, tempers begin to flare. In a dinner one night, with nearly all of House Courcel gathered, Imriel offers a suggestion to Ysandre and Drustan. They overreact and throw him out, forbidding him to call on Sidonie and thus ending their contact for the time being. The next day, Ysandre declares an official end to the search for the gem. Several days later, staying with Phèdre and Joscelin, Imriel awakes to a summons to the palace. There is a delegation from Alais. At the hearing, Imriel sees that Sidonie has removed her bindings, but still seems to trust and rely on Kratos. Ysandre, after hearing that Alais is not going to surrender, again overreacts and throws Alais\\' delegation into the dungeons. After leaving, Imriel again goes to Elua\\'s Square, where he is certain the gem is hidden, to see if he can find it. The flagstones had been ripped up already and the City had been mercilessly searched. After a fruitless search, he prays to each of Elua\\'s Companions, hoping they will grant their city mercy. He returns to the palace, where Ysandre and Drustan are preparing to declare war. A day later, Ysandre and Drustan declare war on their \"traitorous daughter\". At the declaration at the palace, which is a public affair, Imriel, filled with divine presence, walks up to the front of the Hall of Audience, giving an empathetic speech: \"Your majesties, you must not do this thing. The gods themselves forbid it.\" Joscelin, protecting the Queen, however, comes from behind and knocks him unconscious. When he awakes, he re-sees a picture, made of jewels, which was presented to the Queen by Astegal on his visit to the city. The picture is of Elua\\'s Square, and in the picture, inside the tree in middle of the square, is a green gem. He had looked at the picture a number of times, but it was only clear from this new angle; \"the God answer your prayers, sideways.\" He stands up and tries to leave, but Joscelin blocks his way. Kratos, who had stayed with Imriel, fights with Joscelin, being a former champion wrestler. Kratos, being a star wrestler, overwhelms Joscelin, who is used to sword and dagger combat, and knocks him unconscious. Kratos and Imriel then hurry for Elua\\'s Square, following the Queen and her entourage to the general public announcement of war in Elua\\'s Square. He reached the Square and, before everyone, scales the tree, searching for the gem. Just as he is about to give up hope, he finds it in a mud-covered hollow and removes it, attempting to break the spell by saying the word of power. He tries and tries several times, but nothing happens. Meanwhile, Joscelin, who has awoken and made it to the Square, is alerting the guards. Kratos is trying to guard him and the guards are slow to the scale the tree, but Imriel must hurry. In desperation, he takes Sidonie hostage. He speaks to her of his love for her, tells her to look into her heart for the truth, to forget her memories, feel her love for Imriel. He gives her the stone and tells her to read the word of Bodeshmun\\'s talisman. After a pause, with a whisper she reads it. Imriel throws the stone away and it suddenly explodes, showering many people with shards of emerald. Imriel protects Sidonie, shielding her with his body, but receives many shards of emerald in his back. The demon bursts from the stone and shoots through the city towards its home, now free to return to it. In the aftermath of the spell\\'s release, confused and horrified at their behaviour while under the spell, everyone looks to Sidonie and Imriel for answers. Ysandre, ashamed and horrified with herself, tries to abdicate the throne and give it to Sidonie, but she refuses, saying she had fallen under the spell\\'s influence, the same as everyone else, and that there is no fault in it. She does, however, agree to serve as regent for the duration of one month while Terre d\\'Ange is brought back to order. During her time as regent, things return to a semblance of normalcy. Imriel, as Sidonie\\'s consort, is treated as co-regent and, with his battle-knowledge, a military figure as well. The castle guard and the Royal Army consult him on matters of defense and his word is seen as interchangeable with Sidonie\\'s. The shadow of doubt about \"Melisande Shahrizai\\'s son\" is completely gone; the people of Terre d\\'Ange trust and respect Imriel as a saviour. A delegation is sent to bring back Alais and Barquiel, and reunite the realm and House Courcel. A week later, they arrive, with Hyacinthe in tow. At a ceremony in Elua\\'s Square, Ysandre presents the Medal of Valor to both Alais and Barquiel for holding the country together in its time of need. Months pass and things in Terre d\\'Ange are righted. Alais, always displeased with the way things had been run in Alba, ends her engagement to Talorcan and asked to become an ollamh. This will give her nearly as much power as the Cruarch and is accepted by her parents. Ysandre resumes the throne from Sidonie. Imriel and Sidonie\\'s betrothal is announced throughout the realm to a happy reception. The wedding date is set for one year later, the next summer, so as to give the land some time to heal and also to allow the occasion to be as joyous as possible. Word comes from Aragonia that the Carthaginians had surrendered. Drustan returns to Alba, but before he leaves, there is a small gathering for the family, where Imriel finally fulfills his promise to Alais by bringing her new puppy. The seasons change and slowly Terre d\\'Ange heals. A year later, as is tradition, Imriel and Sidonie are separated before their wedding. Two days before the wedding, Imriel finally sees Sidonie and learns something she had done. With the help of Amarante, she has turned her scar from the removal of Astegal\\'s tattoo into a marque; a sunburst. She tells Imriel it is his mark, as she belongs to him, wholly and completely. That night, Imriel and Sidonie make love like they had on her seventeenth birthday; he, binding her with silk rope. One day before the wedding, Imriel hears that Sidonie has been taken to the Temple of Eisheth, that she might ask the goddess to open the gates of her womb so that she may bear children. The day arrives. Imriel is fussed over for a long time by Favrielle no Eglantine\\'s apprentices, until he finally shoos them away as Phèdre and Joscelin arrive to escort him. He arrives to crowds, walking towards Sidonie, glorious in her white dress, at the altar with flower petals falling all around them. The priest and Amarantes\\' mother, the Priestess of Naamah, evokes Elua and speaks the vows. They seal it with a kiss and the celebrations begin. At the celebration, Imriel sees and speaks to many of his friends: Lucius of Lucca, Eamonn and Brigita, Maslin de Lombelon, Urist of Clunderry, even Leander Maignard appears, hoping to see Sidonie and report back to Melisande. Sidonie is amused to meet the real Leander, and seemingly to stir up trouble, kisses him passionately enough to unnerve him, to Imriel\\'s entertainment. The night ends as Imriel, who is full of more happiness that he has ever felt, picks his new wife up in his arms and set off towards the palace, whispering his love for her, trailed by many, many friends and loved ones.'"
      ]
     },
     "execution_count": 20,
     "metadata": {},
     "output_type": "execute_result"
    }
   ],
   "source": [
    "df.loc[12350, 'Summary']"
   ]
  },
  {
   "cell_type": "markdown",
   "metadata": {},
   "source": [
    "## Obtención de los tópicos principales."
   ]
  },
  {
   "cell_type": "markdown",
   "metadata": {},
   "source": [
    "## Vectorizacion de textos"
   ]
  },
  {
   "cell_type": "code",
   "execution_count": 21,
   "metadata": {},
   "outputs": [],
   "source": [
    "def preprocesar(texto):\n",
    "    # Convertir a minusculas\n",
    "    texto = (texto).lower()\n",
    "\n",
    "    # Elimina stopwords\n",
    "    stop = re.compile(r'\\b(' + r'|'.join(stopwords.words('english')) + r')\\b\\s*')\n",
    "    texto = stop.sub('', texto)\n",
    "\n",
    "    # Quitar puntuación y números\n",
    "    texto = re.sub('[^ña-z]+', ' ', texto)\n",
    "\n",
    "    # Lemmatizar y quedarnos con palabras que tengan más de tres carácteres\n",
    "    st = PorterStemmer()\n",
    "    texto = texto.split()\n",
    "    texto = ' '.join([st.stem(i) for i in texto if len(i) > 2])\n",
    "\n",
    "    return(texto)\n"
   ]
  },
  {
   "cell_type": "code",
   "execution_count": 22,
   "metadata": {},
   "outputs": [
    {
     "data": {
      "text/html": [
       "<div>\n",
       "<style scoped>\n",
       "    .dataframe tbody tr th:only-of-type {\n",
       "        vertical-align: middle;\n",
       "    }\n",
       "\n",
       "    .dataframe tbody tr th {\n",
       "        vertical-align: top;\n",
       "    }\n",
       "\n",
       "    .dataframe thead th {\n",
       "        text-align: right;\n",
       "    }\n",
       "</style>\n",
       "<table border=\"1\" class=\"dataframe\">\n",
       "  <thead>\n",
       "    <tr style=\"text-align: right;\">\n",
       "      <th></th>\n",
       "      <th>Title</th>\n",
       "      <th>Author</th>\n",
       "      <th>Genre</th>\n",
       "      <th>Summary</th>\n",
       "      <th>len Summary</th>\n",
       "      <th>Summary_pp</th>\n",
       "    </tr>\n",
       "  </thead>\n",
       "  <tbody>\n",
       "    <tr>\n",
       "      <th>0</th>\n",
       "      <td>Animal Farm</td>\n",
       "      <td>George Orwell</td>\n",
       "      <td>[Roman à clef, Satire, Children's literature, ...</td>\n",
       "      <td>Old Major, the old boar on the Manor Farm, ca...</td>\n",
       "      <td>957</td>\n",
       "      <td>old major old boar manor farm call anim farm m...</td>\n",
       "    </tr>\n",
       "    <tr>\n",
       "      <th>1</th>\n",
       "      <td>A Clockwork Orange</td>\n",
       "      <td>Anthony Burgess</td>\n",
       "      <td>[Science Fiction, Novella, Speculative fiction...</td>\n",
       "      <td>Alex, a teenager living in near-future Englan...</td>\n",
       "      <td>998</td>\n",
       "      <td>alex teenag live near futur england lead gang ...</td>\n",
       "    </tr>\n",
       "    <tr>\n",
       "      <th>2</th>\n",
       "      <td>The Plague</td>\n",
       "      <td>Albert Camus</td>\n",
       "      <td>[Existentialism, Fiction, Absurdist fiction, N...</td>\n",
       "      <td>The text of The Plague is divided into five p...</td>\n",
       "      <td>1119</td>\n",
       "      <td>text plagu divid five part town oran thousand ...</td>\n",
       "    </tr>\n",
       "    <tr>\n",
       "      <th>3</th>\n",
       "      <td>An Enquiry Concerning Human Understanding</td>\n",
       "      <td>David Hume</td>\n",
       "      <td>[]</td>\n",
       "      <td>The argument of the Enquiry proceeds by a ser...</td>\n",
       "      <td>2825</td>\n",
       "      <td>argument enquiri proce seri increment step sep...</td>\n",
       "    </tr>\n",
       "    <tr>\n",
       "      <th>4</th>\n",
       "      <td>A Fire Upon the Deep</td>\n",
       "      <td>Vernor Vinge</td>\n",
       "      <td>[Hard science fiction, Science Fiction, Specul...</td>\n",
       "      <td>The novel posits that space around the Milky ...</td>\n",
       "      <td>722</td>\n",
       "      <td>novel posit space around milki way divid conce...</td>\n",
       "    </tr>\n",
       "  </tbody>\n",
       "</table>\n",
       "</div>"
      ],
      "text/plain": [
       "                                       Title           Author  \\\n",
       "0                                Animal Farm    George Orwell   \n",
       "1                         A Clockwork Orange  Anthony Burgess   \n",
       "2                                 The Plague     Albert Camus   \n",
       "3  An Enquiry Concerning Human Understanding       David Hume   \n",
       "4                       A Fire Upon the Deep     Vernor Vinge   \n",
       "\n",
       "                                               Genre  \\\n",
       "0  [Roman à clef, Satire, Children's literature, ...   \n",
       "1  [Science Fiction, Novella, Speculative fiction...   \n",
       "2  [Existentialism, Fiction, Absurdist fiction, N...   \n",
       "3                                                 []   \n",
       "4  [Hard science fiction, Science Fiction, Specul...   \n",
       "\n",
       "                                             Summary  len Summary  \\\n",
       "0   Old Major, the old boar on the Manor Farm, ca...          957   \n",
       "1   Alex, a teenager living in near-future Englan...          998   \n",
       "2   The text of The Plague is divided into five p...         1119   \n",
       "3   The argument of the Enquiry proceeds by a ser...         2825   \n",
       "4   The novel posits that space around the Milky ...          722   \n",
       "\n",
       "                                          Summary_pp  \n",
       "0  old major old boar manor farm call anim farm m...  \n",
       "1  alex teenag live near futur england lead gang ...  \n",
       "2  text plagu divid five part town oran thousand ...  \n",
       "3  argument enquiri proce seri increment step sep...  \n",
       "4  novel posit space around milki way divid conce...  "
      ]
     },
     "execution_count": 22,
     "metadata": {},
     "output_type": "execute_result"
    }
   ],
   "source": [
    "df['Summary_pp'] = df['Summary'].apply(preprocesar)\n",
    "df.head()"
   ]
  },
  {
   "cell_type": "code",
   "execution_count": 23,
   "metadata": {},
   "outputs": [
    {
     "data": {
      "text/plain": [
       "(16496, 37122)"
      ]
     },
     "execution_count": 23,
     "metadata": {},
     "output_type": "execute_result"
    }
   ],
   "source": [
    "vectorizer = CountVectorizer(min_df = 10, max_df = 0.10, ngram_range = (1, 2))\n",
    "BOW = vectorizer.fit_transform(df['Summary_pp'])\n",
    "BOW.shape"
   ]
  },
  {
   "cell_type": "code",
   "execution_count": 24,
   "metadata": {},
   "outputs": [
    {
     "data": {
      "text/plain": [
       "37122"
      ]
     },
     "execution_count": 24,
     "metadata": {},
     "output_type": "execute_result"
    }
   ],
   "source": [
    "vocabulario = vectorizer.get_feature_names_out()\n",
    "len(vocabulario)"
   ]
  },
  {
   "cell_type": "code",
   "execution_count": 25,
   "metadata": {},
   "outputs": [
    {
     "data": {
      "text/plain": [
       "array(['accident stumbl', 'acclaim', 'accommod', 'accompani',\n",
       "       'accompani back', 'accompani father', 'accompani journey',\n",
       "       'accompani two', 'accomplic', 'accomplish', 'accomplish goal',\n",
       "       'accomplish mission', 'accomplish task', 'accord', 'accord author',\n",
       "       'accord book', 'accord plan', 'accordingli', 'accost', 'account',\n",
       "       'account event', 'account life', 'accumul', 'accur', 'accuraci',\n",
       "       'accus', 'accus murder', 'accus steal', 'accus treason',\n",
       "       'accustom', 'ace', 'ach', 'achiev', 'achiev goal',\n",
       "       'achiev success', 'achil', 'acid', 'ackbar', 'acknowledg',\n",
       "       'acolyt'], dtype=object)"
      ]
     },
     "execution_count": 25,
     "metadata": {},
     "output_type": "execute_result"
    }
   ],
   "source": [
    "vocabulario[200:240]"
   ]
  },
  {
   "cell_type": "markdown",
   "metadata": {},
   "source": [
    "## Entrenamiento del modelo"
   ]
  },
  {
   "cell_type": "markdown",
   "metadata": {},
   "source": [
    "El número óptimo de topicos depende de las caracteristicas del texto a analizar (el largo de los textos, la cantidad de distintas ideas)\n",
    "\n",
    "No obstante existen algunas metricas que ayudan a determinar k."
   ]
  },
  {
   "cell_type": "code",
   "execution_count": 26,
   "metadata": {},
   "outputs": [],
   "source": [
    "k = 10"
   ]
  },
  {
   "cell_type": "code",
   "execution_count": 27,
   "metadata": {},
   "outputs": [],
   "source": [
    "lda_model = LatentDirichletAllocation(n_components = k, learning_method = 'online', random_state = 42, max_iter = 50)"
   ]
  },
  {
   "cell_type": "code",
   "execution_count": 28,
   "metadata": {},
   "outputs": [
    {
     "name": "stdout",
     "output_type": "stream",
     "text": [
      "CPU times: user 9min 51s, sys: 10min, total: 19min 51s\n",
      "Wall time: 3min 1s\n"
     ]
    },
    {
     "data": {
      "text/html": [
       "<style>#sk-container-id-1 {color: black;background-color: white;}#sk-container-id-1 pre{padding: 0;}#sk-container-id-1 div.sk-toggleable {background-color: white;}#sk-container-id-1 label.sk-toggleable__label {cursor: pointer;display: block;width: 100%;margin-bottom: 0;padding: 0.3em;box-sizing: border-box;text-align: center;}#sk-container-id-1 label.sk-toggleable__label-arrow:before {content: \"▸\";float: left;margin-right: 0.25em;color: #696969;}#sk-container-id-1 label.sk-toggleable__label-arrow:hover:before {color: black;}#sk-container-id-1 div.sk-estimator:hover label.sk-toggleable__label-arrow:before {color: black;}#sk-container-id-1 div.sk-toggleable__content {max-height: 0;max-width: 0;overflow: hidden;text-align: left;background-color: #f0f8ff;}#sk-container-id-1 div.sk-toggleable__content pre {margin: 0.2em;color: black;border-radius: 0.25em;background-color: #f0f8ff;}#sk-container-id-1 input.sk-toggleable__control:checked~div.sk-toggleable__content {max-height: 200px;max-width: 100%;overflow: auto;}#sk-container-id-1 input.sk-toggleable__control:checked~label.sk-toggleable__label-arrow:before {content: \"▾\";}#sk-container-id-1 div.sk-estimator input.sk-toggleable__control:checked~label.sk-toggleable__label {background-color: #d4ebff;}#sk-container-id-1 div.sk-label input.sk-toggleable__control:checked~label.sk-toggleable__label {background-color: #d4ebff;}#sk-container-id-1 input.sk-hidden--visually {border: 0;clip: rect(1px 1px 1px 1px);clip: rect(1px, 1px, 1px, 1px);height: 1px;margin: -1px;overflow: hidden;padding: 0;position: absolute;width: 1px;}#sk-container-id-1 div.sk-estimator {font-family: monospace;background-color: #f0f8ff;border: 1px dotted black;border-radius: 0.25em;box-sizing: border-box;margin-bottom: 0.5em;}#sk-container-id-1 div.sk-estimator:hover {background-color: #d4ebff;}#sk-container-id-1 div.sk-parallel-item::after {content: \"\";width: 100%;border-bottom: 1px solid gray;flex-grow: 1;}#sk-container-id-1 div.sk-label:hover label.sk-toggleable__label {background-color: #d4ebff;}#sk-container-id-1 div.sk-serial::before {content: \"\";position: absolute;border-left: 1px solid gray;box-sizing: border-box;top: 0;bottom: 0;left: 50%;z-index: 0;}#sk-container-id-1 div.sk-serial {display: flex;flex-direction: column;align-items: center;background-color: white;padding-right: 0.2em;padding-left: 0.2em;position: relative;}#sk-container-id-1 div.sk-item {position: relative;z-index: 1;}#sk-container-id-1 div.sk-parallel {display: flex;align-items: stretch;justify-content: center;background-color: white;position: relative;}#sk-container-id-1 div.sk-item::before, #sk-container-id-1 div.sk-parallel-item::before {content: \"\";position: absolute;border-left: 1px solid gray;box-sizing: border-box;top: 0;bottom: 0;left: 50%;z-index: -1;}#sk-container-id-1 div.sk-parallel-item {display: flex;flex-direction: column;z-index: 1;position: relative;background-color: white;}#sk-container-id-1 div.sk-parallel-item:first-child::after {align-self: flex-end;width: 50%;}#sk-container-id-1 div.sk-parallel-item:last-child::after {align-self: flex-start;width: 50%;}#sk-container-id-1 div.sk-parallel-item:only-child::after {width: 0;}#sk-container-id-1 div.sk-dashed-wrapped {border: 1px dashed gray;margin: 0 0.4em 0.5em 0.4em;box-sizing: border-box;padding-bottom: 0.4em;background-color: white;}#sk-container-id-1 div.sk-label label {font-family: monospace;font-weight: bold;display: inline-block;line-height: 1.2em;}#sk-container-id-1 div.sk-label-container {text-align: center;}#sk-container-id-1 div.sk-container {/* jupyter's `normalize.less` sets `[hidden] { display: none; }` but bootstrap.min.css set `[hidden] { display: none !important; }` so we also need the `!important` here to be able to override the default hidden behavior on the sphinx rendered scikit-learn.org. See: https://github.com/scikit-learn/scikit-learn/issues/21755 */display: inline-block !important;position: relative;}#sk-container-id-1 div.sk-text-repr-fallback {display: none;}</style><div id=\"sk-container-id-1\" class=\"sk-top-container\"><div class=\"sk-text-repr-fallback\"><pre>LatentDirichletAllocation(learning_method=&#x27;online&#x27;, max_iter=50,\n",
       "                          random_state=42)</pre><b>In a Jupyter environment, please rerun this cell to show the HTML representation or trust the notebook. <br />On GitHub, the HTML representation is unable to render, please try loading this page with nbviewer.org.</b></div><div class=\"sk-container\" hidden><div class=\"sk-item\"><div class=\"sk-estimator sk-toggleable\"><input class=\"sk-toggleable__control sk-hidden--visually\" id=\"sk-estimator-id-1\" type=\"checkbox\" checked><label for=\"sk-estimator-id-1\" class=\"sk-toggleable__label sk-toggleable__label-arrow\">LatentDirichletAllocation</label><div class=\"sk-toggleable__content\"><pre>LatentDirichletAllocation(learning_method=&#x27;online&#x27;, max_iter=50,\n",
       "                          random_state=42)</pre></div></div></div></div></div>"
      ],
      "text/plain": [
       "LatentDirichletAllocation(learning_method='online', max_iter=50,\n",
       "                          random_state=42)"
      ]
     },
     "execution_count": 28,
     "metadata": {},
     "output_type": "execute_result"
    }
   ],
   "source": [
    "%%time\n",
    "lda_model.fit(BOW) # Entrena el modelo y obtienela matriz documento-topico"
   ]
  },
  {
   "cell_type": "markdown",
   "metadata": {},
   "source": [
    "### Guardamos el modelo con pickle"
   ]
  },
  {
   "cell_type": "code",
   "execution_count": 30,
   "metadata": {},
   "outputs": [],
   "source": [
    "path = '/Users/danielml/Documents/Computational/Curso_Bourbaki/Semana_7/'\n",
    "tuple_models = (lda_model, BOW, vectorizer)\n",
    "pickle.dump(tuple_models, open (path + \"tuple_model_books_k10.pkl\", 'wb'))"
   ]
  },
  {
   "cell_type": "code",
   "execution_count": null,
   "metadata": {},
   "outputs": [],
   "source": []
  }
 ],
 "metadata": {
  "kernelspec": {
   "display_name": "base",
   "language": "python",
   "name": "python3"
  },
  "language_info": {
   "codemirror_mode": {
    "name": "ipython",
    "version": 3
   },
   "file_extension": ".py",
   "mimetype": "text/x-python",
   "name": "python",
   "nbconvert_exporter": "python",
   "pygments_lexer": "ipython3",
   "version": "3.10.8"
  }
 },
 "nbformat": 4,
 "nbformat_minor": 2
}
